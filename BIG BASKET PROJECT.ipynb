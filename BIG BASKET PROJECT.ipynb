{
 "cells": [
  {
   "cell_type": "markdown",
   "id": "a4012838",
   "metadata": {},
   "source": [
    "# What is Bigbasket\n",
    "BigBasket is an Indian online grocer headquartered in Bangalore, India, and currently owned by Tata Digital.[1] It was the first online grocer in India, set up in 2011. It is a registered company with the name Supermarket Grocery Supplies Pvt. Ltd.\n",
    "\n"
   ]
  },
  {
   "cell_type": "code",
   "execution_count": 1,
   "id": "85ad9df6",
   "metadata": {},
   "outputs": [],
   "source": [
    "# Importing major libraries \n",
    "\n",
    "import numpy as np\n",
    "import pandas as pd\n",
    "import seaborn as sns \n",
    "import matplotlib.pyplot as plt \n",
    "import plotly.express as px \n"
   ]
  },
  {
   "cell_type": "code",
   "execution_count": 2,
   "id": "8633141e",
   "metadata": {},
   "outputs": [],
   "source": [
    "# Loading dataset in df\n",
    "\n",
    "\n",
    "df=pd.read_csv('BigBasket.csv')"
   ]
  },
  {
   "cell_type": "code",
   "execution_count": 3,
   "id": "8ceb77dc",
   "metadata": {},
   "outputs": [
    {
     "data": {
      "text/html": [
       "<div>\n",
       "<style scoped>\n",
       "    .dataframe tbody tr th:only-of-type {\n",
       "        vertical-align: middle;\n",
       "    }\n",
       "\n",
       "    .dataframe tbody tr th {\n",
       "        vertical-align: top;\n",
       "    }\n",
       "\n",
       "    .dataframe thead th {\n",
       "        text-align: right;\n",
       "    }\n",
       "</style>\n",
       "<table border=\"1\" class=\"dataframe\">\n",
       "  <thead>\n",
       "    <tr style=\"text-align: right;\">\n",
       "      <th></th>\n",
       "      <th>index</th>\n",
       "      <th>product</th>\n",
       "      <th>category</th>\n",
       "      <th>sub_category</th>\n",
       "      <th>brand</th>\n",
       "      <th>sale_price</th>\n",
       "      <th>market_price</th>\n",
       "      <th>type</th>\n",
       "      <th>rating</th>\n",
       "      <th>description</th>\n",
       "    </tr>\n",
       "  </thead>\n",
       "  <tbody>\n",
       "    <tr>\n",
       "      <th>0</th>\n",
       "      <td>1</td>\n",
       "      <td>Garlic Oil - Vegetarian Capsule 500 mg</td>\n",
       "      <td>Beauty &amp; Hygiene</td>\n",
       "      <td>Hair Care</td>\n",
       "      <td>Sri Sri Ayurveda</td>\n",
       "      <td>220.00</td>\n",
       "      <td>220.0</td>\n",
       "      <td>Hair Oil &amp; Serum</td>\n",
       "      <td>4.1</td>\n",
       "      <td>This Product contains Garlic Oil that is known...</td>\n",
       "    </tr>\n",
       "    <tr>\n",
       "      <th>1</th>\n",
       "      <td>2</td>\n",
       "      <td>Water Bottle - Orange</td>\n",
       "      <td>Kitchen, Garden &amp; Pets</td>\n",
       "      <td>Storage &amp; Accessories</td>\n",
       "      <td>Mastercook</td>\n",
       "      <td>180.00</td>\n",
       "      <td>180.0</td>\n",
       "      <td>Water &amp; Fridge Bottles</td>\n",
       "      <td>2.3</td>\n",
       "      <td>Each product is microwave safe (without lid), ...</td>\n",
       "    </tr>\n",
       "    <tr>\n",
       "      <th>2</th>\n",
       "      <td>3</td>\n",
       "      <td>Brass Angle Deep - Plain, No.2</td>\n",
       "      <td>Cleaning &amp; Household</td>\n",
       "      <td>Pooja Needs</td>\n",
       "      <td>Trm</td>\n",
       "      <td>119.00</td>\n",
       "      <td>250.0</td>\n",
       "      <td>Lamp &amp; Lamp Oil</td>\n",
       "      <td>3.4</td>\n",
       "      <td>A perfect gift for all occasions, be it your m...</td>\n",
       "    </tr>\n",
       "    <tr>\n",
       "      <th>3</th>\n",
       "      <td>4</td>\n",
       "      <td>Cereal Flip Lid Container/Storage Jar - Assort...</td>\n",
       "      <td>Cleaning &amp; Household</td>\n",
       "      <td>Bins &amp; Bathroom Ware</td>\n",
       "      <td>Nakoda</td>\n",
       "      <td>149.00</td>\n",
       "      <td>176.0</td>\n",
       "      <td>Laundry, Storage Baskets</td>\n",
       "      <td>3.7</td>\n",
       "      <td>Multipurpose container with an attractive desi...</td>\n",
       "    </tr>\n",
       "    <tr>\n",
       "      <th>4</th>\n",
       "      <td>5</td>\n",
       "      <td>Creme Soft Soap - For Hands &amp; Body</td>\n",
       "      <td>Beauty &amp; Hygiene</td>\n",
       "      <td>Bath &amp; Hand Wash</td>\n",
       "      <td>Nivea</td>\n",
       "      <td>162.00</td>\n",
       "      <td>162.0</td>\n",
       "      <td>Bathing Bars &amp; Soaps</td>\n",
       "      <td>4.4</td>\n",
       "      <td>Nivea Creme Soft Soap gives your skin the best...</td>\n",
       "    </tr>\n",
       "    <tr>\n",
       "      <th>...</th>\n",
       "      <td>...</td>\n",
       "      <td>...</td>\n",
       "      <td>...</td>\n",
       "      <td>...</td>\n",
       "      <td>...</td>\n",
       "      <td>...</td>\n",
       "      <td>...</td>\n",
       "      <td>...</td>\n",
       "      <td>...</td>\n",
       "      <td>...</td>\n",
       "    </tr>\n",
       "    <tr>\n",
       "      <th>27550</th>\n",
       "      <td>27551</td>\n",
       "      <td>Wottagirl! Perfume Spray - Heaven, Classic</td>\n",
       "      <td>Beauty &amp; Hygiene</td>\n",
       "      <td>Fragrances &amp; Deos</td>\n",
       "      <td>Layerr</td>\n",
       "      <td>199.20</td>\n",
       "      <td>249.0</td>\n",
       "      <td>Perfume</td>\n",
       "      <td>3.9</td>\n",
       "      <td>Layerr brings you Wottagirl Classic fragrant b...</td>\n",
       "    </tr>\n",
       "    <tr>\n",
       "      <th>27551</th>\n",
       "      <td>27552</td>\n",
       "      <td>Rosemary</td>\n",
       "      <td>Gourmet &amp; World Food</td>\n",
       "      <td>Cooking &amp; Baking Needs</td>\n",
       "      <td>Puramate</td>\n",
       "      <td>67.50</td>\n",
       "      <td>75.0</td>\n",
       "      <td>Herbs, Seasonings &amp; Rubs</td>\n",
       "      <td>4.0</td>\n",
       "      <td>Puramate rosemary is enough to transform a dis...</td>\n",
       "    </tr>\n",
       "    <tr>\n",
       "      <th>27552</th>\n",
       "      <td>27553</td>\n",
       "      <td>Peri-Peri Sweet Potato Chips</td>\n",
       "      <td>Gourmet &amp; World Food</td>\n",
       "      <td>Snacks, Dry Fruits, Nuts</td>\n",
       "      <td>FabBox</td>\n",
       "      <td>200.00</td>\n",
       "      <td>200.0</td>\n",
       "      <td>Nachos &amp; Chips</td>\n",
       "      <td>3.8</td>\n",
       "      <td>We have taken the richness of Sweet Potatoes (...</td>\n",
       "    </tr>\n",
       "    <tr>\n",
       "      <th>27553</th>\n",
       "      <td>27554</td>\n",
       "      <td>Green Tea - Pure Original</td>\n",
       "      <td>Beverages</td>\n",
       "      <td>Tea</td>\n",
       "      <td>Tetley</td>\n",
       "      <td>396.00</td>\n",
       "      <td>495.0</td>\n",
       "      <td>Tea Bags</td>\n",
       "      <td>4.2</td>\n",
       "      <td>Tetley Green Tea with its refreshing pure, ori...</td>\n",
       "    </tr>\n",
       "    <tr>\n",
       "      <th>27554</th>\n",
       "      <td>27555</td>\n",
       "      <td>United Dreams Go Far Deodorant</td>\n",
       "      <td>Beauty &amp; Hygiene</td>\n",
       "      <td>Men's Grooming</td>\n",
       "      <td>United Colors Of Benetton</td>\n",
       "      <td>214.53</td>\n",
       "      <td>390.0</td>\n",
       "      <td>Men's Deodorants</td>\n",
       "      <td>4.5</td>\n",
       "      <td>The new mens fragrance from the United Dreams ...</td>\n",
       "    </tr>\n",
       "  </tbody>\n",
       "</table>\n",
       "<p>27555 rows × 10 columns</p>\n",
       "</div>"
      ],
      "text/plain": [
       "       index                                            product  \\\n",
       "0          1             Garlic Oil - Vegetarian Capsule 500 mg   \n",
       "1          2                              Water Bottle - Orange   \n",
       "2          3                     Brass Angle Deep - Plain, No.2   \n",
       "3          4  Cereal Flip Lid Container/Storage Jar - Assort...   \n",
       "4          5                 Creme Soft Soap - For Hands & Body   \n",
       "...      ...                                                ...   \n",
       "27550  27551         Wottagirl! Perfume Spray - Heaven, Classic   \n",
       "27551  27552                                           Rosemary   \n",
       "27552  27553                       Peri-Peri Sweet Potato Chips   \n",
       "27553  27554                          Green Tea - Pure Original   \n",
       "27554  27555                     United Dreams Go Far Deodorant   \n",
       "\n",
       "                     category              sub_category  \\\n",
       "0            Beauty & Hygiene                 Hair Care   \n",
       "1      Kitchen, Garden & Pets     Storage & Accessories   \n",
       "2        Cleaning & Household               Pooja Needs   \n",
       "3        Cleaning & Household      Bins & Bathroom Ware   \n",
       "4            Beauty & Hygiene          Bath & Hand Wash   \n",
       "...                       ...                       ...   \n",
       "27550        Beauty & Hygiene         Fragrances & Deos   \n",
       "27551    Gourmet & World Food    Cooking & Baking Needs   \n",
       "27552    Gourmet & World Food  Snacks, Dry Fruits, Nuts   \n",
       "27553               Beverages                       Tea   \n",
       "27554        Beauty & Hygiene            Men's Grooming   \n",
       "\n",
       "                            brand  sale_price  market_price  \\\n",
       "0               Sri Sri Ayurveda       220.00         220.0   \n",
       "1                      Mastercook      180.00         180.0   \n",
       "2                             Trm      119.00         250.0   \n",
       "3                          Nakoda      149.00         176.0   \n",
       "4                           Nivea      162.00         162.0   \n",
       "...                           ...         ...           ...   \n",
       "27550                      Layerr      199.20         249.0   \n",
       "27551                    Puramate       67.50          75.0   \n",
       "27552                      FabBox      200.00         200.0   \n",
       "27553                      Tetley      396.00         495.0   \n",
       "27554  United Colors Of Benetton       214.53         390.0   \n",
       "\n",
       "                           type  rating  \\\n",
       "0              Hair Oil & Serum     4.1   \n",
       "1        Water & Fridge Bottles     2.3   \n",
       "2               Lamp & Lamp Oil     3.4   \n",
       "3      Laundry, Storage Baskets     3.7   \n",
       "4          Bathing Bars & Soaps     4.4   \n",
       "...                         ...     ...   \n",
       "27550                   Perfume     3.9   \n",
       "27551  Herbs, Seasonings & Rubs     4.0   \n",
       "27552            Nachos & Chips     3.8   \n",
       "27553                  Tea Bags     4.2   \n",
       "27554          Men's Deodorants     4.5   \n",
       "\n",
       "                                             description  \n",
       "0      This Product contains Garlic Oil that is known...  \n",
       "1      Each product is microwave safe (without lid), ...  \n",
       "2      A perfect gift for all occasions, be it your m...  \n",
       "3      Multipurpose container with an attractive desi...  \n",
       "4      Nivea Creme Soft Soap gives your skin the best...  \n",
       "...                                                  ...  \n",
       "27550  Layerr brings you Wottagirl Classic fragrant b...  \n",
       "27551  Puramate rosemary is enough to transform a dis...  \n",
       "27552  We have taken the richness of Sweet Potatoes (...  \n",
       "27553  Tetley Green Tea with its refreshing pure, ori...  \n",
       "27554  The new mens fragrance from the United Dreams ...  \n",
       "\n",
       "[27555 rows x 10 columns]"
      ]
     },
     "execution_count": 3,
     "metadata": {},
     "output_type": "execute_result"
    }
   ],
   "source": [
    "df"
   ]
  },
  {
   "cell_type": "markdown",
   "id": "77c2d60d",
   "metadata": {},
   "source": [
    "#####  About our dataset \n",
    "\n",
    "Our dataset contains information regarding items listed on BigBasket "
   ]
  },
  {
   "cell_type": "markdown",
   "id": "b777ee3a",
   "metadata": {},
   "source": [
    "#### columns breifs\n",
    "\n",
    "- **index** : Unique Identifier for each product \n",
    "- **product** : Name of the product listed\n",
    "- **category** : Category of the product listed\n",
    "- **sub_category** : Category is further broken down into subcategories\n",
    "- **brand**  : Name of the company of the product listed \n",
    "- **sale_price** : Price at which item is being sold\n",
    "- **market_price** : It holds the value of maximum retail price MRP of the product \n",
    "- **type** : Type of product\n",
    "- **rating** : Aggregate rating given to the product\n",
    "- **description** : Description of the product"
   ]
  },
  {
   "cell_type": "code",
   "execution_count": 4,
   "id": "c755ce35",
   "metadata": {},
   "outputs": [
    {
     "name": "stdout",
     "output_type": "stream",
     "text": [
      "<class 'pandas.core.frame.DataFrame'>\n",
      "RangeIndex: 27555 entries, 0 to 27554\n",
      "Data columns (total 10 columns):\n",
      " #   Column        Non-Null Count  Dtype  \n",
      "---  ------        --------------  -----  \n",
      " 0   index         27555 non-null  int64  \n",
      " 1   product       27554 non-null  object \n",
      " 2   category      27555 non-null  object \n",
      " 3   sub_category  27555 non-null  object \n",
      " 4   brand         27554 non-null  object \n",
      " 5   sale_price    27549 non-null  float64\n",
      " 6   market_price  27555 non-null  float64\n",
      " 7   type          27555 non-null  object \n",
      " 8   rating        18919 non-null  float64\n",
      " 9   description   27440 non-null  object \n",
      "dtypes: float64(3), int64(1), object(6)\n",
      "memory usage: 2.1+ MB\n"
     ]
    }
   ],
   "source": [
    "df.info()"
   ]
  },
  {
   "cell_type": "code",
   "execution_count": 5,
   "id": "e79ac95b",
   "metadata": {},
   "outputs": [
    {
     "data": {
      "text/html": [
       "<div>\n",
       "<style scoped>\n",
       "    .dataframe tbody tr th:only-of-type {\n",
       "        vertical-align: middle;\n",
       "    }\n",
       "\n",
       "    .dataframe tbody tr th {\n",
       "        vertical-align: top;\n",
       "    }\n",
       "\n",
       "    .dataframe thead th {\n",
       "        text-align: right;\n",
       "    }\n",
       "</style>\n",
       "<table border=\"1\" class=\"dataframe\">\n",
       "  <thead>\n",
       "    <tr style=\"text-align: right;\">\n",
       "      <th></th>\n",
       "      <th>index</th>\n",
       "      <th>sale_price</th>\n",
       "      <th>market_price</th>\n",
       "      <th>rating</th>\n",
       "    </tr>\n",
       "  </thead>\n",
       "  <tbody>\n",
       "    <tr>\n",
       "      <th>count</th>\n",
       "      <td>27555.00000</td>\n",
       "      <td>27549.000000</td>\n",
       "      <td>27555.000000</td>\n",
       "      <td>18919.000000</td>\n",
       "    </tr>\n",
       "    <tr>\n",
       "      <th>mean</th>\n",
       "      <td>13778.00000</td>\n",
       "      <td>334.648391</td>\n",
       "      <td>382.056664</td>\n",
       "      <td>3.943295</td>\n",
       "    </tr>\n",
       "    <tr>\n",
       "      <th>std</th>\n",
       "      <td>7954.58767</td>\n",
       "      <td>1202.102113</td>\n",
       "      <td>581.730717</td>\n",
       "      <td>0.739217</td>\n",
       "    </tr>\n",
       "    <tr>\n",
       "      <th>min</th>\n",
       "      <td>1.00000</td>\n",
       "      <td>2.450000</td>\n",
       "      <td>3.000000</td>\n",
       "      <td>1.000000</td>\n",
       "    </tr>\n",
       "    <tr>\n",
       "      <th>25%</th>\n",
       "      <td>6889.50000</td>\n",
       "      <td>95.000000</td>\n",
       "      <td>100.000000</td>\n",
       "      <td>3.700000</td>\n",
       "    </tr>\n",
       "    <tr>\n",
       "      <th>50%</th>\n",
       "      <td>13778.00000</td>\n",
       "      <td>190.320000</td>\n",
       "      <td>220.000000</td>\n",
       "      <td>4.100000</td>\n",
       "    </tr>\n",
       "    <tr>\n",
       "      <th>75%</th>\n",
       "      <td>20666.50000</td>\n",
       "      <td>359.000000</td>\n",
       "      <td>425.000000</td>\n",
       "      <td>4.300000</td>\n",
       "    </tr>\n",
       "    <tr>\n",
       "      <th>max</th>\n",
       "      <td>27555.00000</td>\n",
       "      <td>112475.000000</td>\n",
       "      <td>12500.000000</td>\n",
       "      <td>5.000000</td>\n",
       "    </tr>\n",
       "  </tbody>\n",
       "</table>\n",
       "</div>"
      ],
      "text/plain": [
       "             index     sale_price  market_price        rating\n",
       "count  27555.00000   27549.000000  27555.000000  18919.000000\n",
       "mean   13778.00000     334.648391    382.056664      3.943295\n",
       "std     7954.58767    1202.102113    581.730717      0.739217\n",
       "min        1.00000       2.450000      3.000000      1.000000\n",
       "25%     6889.50000      95.000000    100.000000      3.700000\n",
       "50%    13778.00000     190.320000    220.000000      4.100000\n",
       "75%    20666.50000     359.000000    425.000000      4.300000\n",
       "max    27555.00000  112475.000000  12500.000000      5.000000"
      ]
     },
     "execution_count": 5,
     "metadata": {},
     "output_type": "execute_result"
    }
   ],
   "source": [
    "# Seeking description of the dataset \n",
    "\n",
    "df.describe()"
   ]
  },
  {
   "cell_type": "markdown",
   "id": "e247f87d",
   "metadata": {},
   "source": [
    "- It shows us all the numerical columns and their statistical summary.\n",
    "- By seeing count column we can see there are some null values in sale_price and ratings.\n",
    "- By seeing the mean of sale_price and market_price we can see a very common relation, that srp can never be more than mrp.\n",
    "- Info- that there is huge difference b/w market price and sale_price , sale_price is about 2 times mrp std ,\n",
    "    + which means that huge discounts are give or their could be outliers.\n",
    "- Min values are considerable except 1 in market price, we will come back to that later\n",
    "- Max values are considerble"
   ]
  },
  {
   "cell_type": "markdown",
   "id": "228d6ecd",
   "metadata": {},
   "source": [
    "### Manual assessing "
   ]
  },
  {
   "cell_type": "markdown",
   "id": "42c0f9b0",
   "metadata": {},
   "source": [
    "#####  Dealing with null values"
   ]
  },
  {
   "cell_type": "code",
   "execution_count": 6,
   "id": "78415224",
   "metadata": {},
   "outputs": [
    {
     "data": {
      "text/plain": [
       "index              0\n",
       "product            1\n",
       "category           0\n",
       "sub_category       0\n",
       "brand              1\n",
       "sale_price         6\n",
       "market_price       0\n",
       "type               0\n",
       "rating          8636\n",
       "description      115\n",
       "dtype: int64"
      ]
     },
     "execution_count": 6,
     "metadata": {},
     "output_type": "execute_result"
    }
   ],
   "source": [
    "df.isnull().sum()"
   ]
  },
  {
   "cell_type": "markdown",
   "id": "9230ccfa",
   "metadata": {},
   "source": [
    "- Product has 1 null values\n",
    "- Brand has 1 null value\n",
    "- Sale_price has 6 null values\n",
    "- Ratings has 8636 null values\n",
    "- Description has 115 null values"
   ]
  },
  {
   "cell_type": "code",
   "execution_count": 7,
   "id": "00a01cb3",
   "metadata": {},
   "outputs": [
    {
     "data": {
      "text/plain": [
       "8759"
      ]
     },
     "execution_count": 7,
     "metadata": {},
     "output_type": "execute_result"
    }
   ],
   "source": [
    "df.isnull().sum().sum()"
   ]
  },
  {
   "cell_type": "markdown",
   "id": "5dea7994",
   "metadata": {},
   "source": [
    "Total null values are 8759"
   ]
  },
  {
   "cell_type": "code",
   "execution_count": 8,
   "id": "5058c2e3",
   "metadata": {},
   "outputs": [
    {
     "data": {
      "text/plain": [
       "0        220.00\n",
       "1        180.00\n",
       "2        119.00\n",
       "3        149.00\n",
       "4        162.00\n",
       "          ...  \n",
       "27550    199.20\n",
       "27551     67.50\n",
       "27552    200.00\n",
       "27553    396.00\n",
       "27554    214.53\n",
       "Name: sale_price, Length: 27555, dtype: float64"
      ]
     },
     "execution_count": 8,
     "metadata": {},
     "output_type": "execute_result"
    }
   ],
   "source": [
    "df.sale_price"
   ]
  },
  {
   "cell_type": "code",
   "execution_count": 9,
   "id": "165306fc",
   "metadata": {},
   "outputs": [
    {
     "data": {
      "text/html": [
       "<div>\n",
       "<style scoped>\n",
       "    .dataframe tbody tr th:only-of-type {\n",
       "        vertical-align: middle;\n",
       "    }\n",
       "\n",
       "    .dataframe tbody tr th {\n",
       "        vertical-align: top;\n",
       "    }\n",
       "\n",
       "    .dataframe thead th {\n",
       "        text-align: right;\n",
       "    }\n",
       "</style>\n",
       "<table border=\"1\" class=\"dataframe\">\n",
       "  <thead>\n",
       "    <tr style=\"text-align: right;\">\n",
       "      <th></th>\n",
       "      <th>index</th>\n",
       "      <th>product</th>\n",
       "      <th>category</th>\n",
       "      <th>sub_category</th>\n",
       "      <th>brand</th>\n",
       "      <th>sale_price</th>\n",
       "      <th>market_price</th>\n",
       "      <th>type</th>\n",
       "      <th>rating</th>\n",
       "      <th>description</th>\n",
       "    </tr>\n",
       "  </thead>\n",
       "  <tbody>\n",
       "    <tr>\n",
       "      <th>1719</th>\n",
       "      <td>1720</td>\n",
       "      <td>Puja Flower Wicks - Puvvu Vathulu Batti</td>\n",
       "      <td>Cleaning &amp; Household</td>\n",
       "      <td>Pooja Needs</td>\n",
       "      <td>Jaji</td>\n",
       "      <td>NaN</td>\n",
       "      <td>20.0</td>\n",
       "      <td>Camphor &amp; Wicks</td>\n",
       "      <td>NaN</td>\n",
       "      <td>Jaji Puja Flower Batti / Puvvu Vathulu is made...</td>\n",
       "    </tr>\n",
       "    <tr>\n",
       "      <th>1720</th>\n",
       "      <td>1721</td>\n",
       "      <td>Powder - Sambar</td>\n",
       "      <td>Foodgrains, Oil &amp; Masala</td>\n",
       "      <td>Masalas &amp; Spices</td>\n",
       "      <td>Annapoorna</td>\n",
       "      <td>NaN</td>\n",
       "      <td>46.0</td>\n",
       "      <td>Blended Masalas</td>\n",
       "      <td>NaN</td>\n",
       "      <td>Annaporna Spices are the preserve for Connoiss...</td>\n",
       "    </tr>\n",
       "    <tr>\n",
       "      <th>1721</th>\n",
       "      <td>1722</td>\n",
       "      <td>Steel Fork - Medium, Premium Excel Series, BBCL08</td>\n",
       "      <td>Kitchen, Garden &amp; Pets</td>\n",
       "      <td>Crockery &amp; Cutlery</td>\n",
       "      <td>BB Home</td>\n",
       "      <td>NaN</td>\n",
       "      <td>299.0</td>\n",
       "      <td>Cutlery, Spoon &amp; Fork</td>\n",
       "      <td>NaN</td>\n",
       "      <td>BB Home provides fine and classy cutlery that ...</td>\n",
       "    </tr>\n",
       "    <tr>\n",
       "      <th>1722</th>\n",
       "      <td>1723</td>\n",
       "      <td>Snack Mix - Dhokla</td>\n",
       "      <td>Snacks &amp; Branded Foods</td>\n",
       "      <td>Ready To Cook &amp; Eat</td>\n",
       "      <td>MTR</td>\n",
       "      <td>NaN</td>\n",
       "      <td>65.0</td>\n",
       "      <td>Breakfast &amp; Snack Mixes</td>\n",
       "      <td>4.1</td>\n",
       "      <td>MTR Dhokla is extremely special in Gujarat. It...</td>\n",
       "    </tr>\n",
       "    <tr>\n",
       "      <th>2401</th>\n",
       "      <td>2402</td>\n",
       "      <td>Battery AA 3UT Hi Top</td>\n",
       "      <td>Kitchen, Garden &amp; Pets</td>\n",
       "      <td>Appliances &amp; Electricals</td>\n",
       "      <td>Nippo</td>\n",
       "      <td>NaN</td>\n",
       "      <td>150.0</td>\n",
       "      <td>Battery &amp; Electrical</td>\n",
       "      <td>4.0</td>\n",
       "      <td>This Nippo battery incorporates state-of-the-a...</td>\n",
       "    </tr>\n",
       "    <tr>\n",
       "      <th>2402</th>\n",
       "      <td>2403</td>\n",
       "      <td>Klassic Plain Cocktail Napkins (22 X 22 cm)</td>\n",
       "      <td>Cleaning &amp; Household</td>\n",
       "      <td>Disposables, Garbage Bag</td>\n",
       "      <td>Origami</td>\n",
       "      <td>NaN</td>\n",
       "      <td>32.0</td>\n",
       "      <td>Toilet Paper</td>\n",
       "      <td>3.9</td>\n",
       "      <td>Klassic Plain Cocktail Napkins (22 X 22 cm) 10...</td>\n",
       "    </tr>\n",
       "  </tbody>\n",
       "</table>\n",
       "</div>"
      ],
      "text/plain": [
       "      index                                            product  \\\n",
       "1719   1720            Puja Flower Wicks - Puvvu Vathulu Batti   \n",
       "1720   1721                                    Powder - Sambar   \n",
       "1721   1722  Steel Fork - Medium, Premium Excel Series, BBCL08   \n",
       "1722   1723                                 Snack Mix - Dhokla   \n",
       "2401   2402                              Battery AA 3UT Hi Top   \n",
       "2402   2403        Klassic Plain Cocktail Napkins (22 X 22 cm)   \n",
       "\n",
       "                      category              sub_category       brand  \\\n",
       "1719      Cleaning & Household               Pooja Needs        Jaji   \n",
       "1720  Foodgrains, Oil & Masala          Masalas & Spices  Annapoorna   \n",
       "1721    Kitchen, Garden & Pets        Crockery & Cutlery     BB Home   \n",
       "1722    Snacks & Branded Foods       Ready To Cook & Eat         MTR   \n",
       "2401    Kitchen, Garden & Pets  Appliances & Electricals       Nippo   \n",
       "2402      Cleaning & Household  Disposables, Garbage Bag     Origami   \n",
       "\n",
       "      sale_price  market_price                     type  rating  \\\n",
       "1719         NaN          20.0          Camphor & Wicks     NaN   \n",
       "1720         NaN          46.0          Blended Masalas     NaN   \n",
       "1721         NaN         299.0    Cutlery, Spoon & Fork     NaN   \n",
       "1722         NaN          65.0  Breakfast & Snack Mixes     4.1   \n",
       "2401         NaN         150.0     Battery & Electrical     4.0   \n",
       "2402         NaN          32.0             Toilet Paper     3.9   \n",
       "\n",
       "                                            description  \n",
       "1719  Jaji Puja Flower Batti / Puvvu Vathulu is made...  \n",
       "1720  Annaporna Spices are the preserve for Connoiss...  \n",
       "1721  BB Home provides fine and classy cutlery that ...  \n",
       "1722  MTR Dhokla is extremely special in Gujarat. It...  \n",
       "2401  This Nippo battery incorporates state-of-the-a...  \n",
       "2402  Klassic Plain Cocktail Napkins (22 X 22 cm) 10...  "
      ]
     },
     "execution_count": 9,
     "metadata": {},
     "output_type": "execute_result"
    }
   ],
   "source": [
    "df[df.sale_price.isnull()]"
   ]
  },
  {
   "cell_type": "code",
   "execution_count": 10,
   "id": "45c4760f",
   "metadata": {},
   "outputs": [],
   "source": [
    "# to fill null values of sale_price column\n",
    "\n",
    "df.sale_price.fillna(df.market_price , inplace=True)"
   ]
  },
  {
   "cell_type": "code",
   "execution_count": 11,
   "id": "2811432e",
   "metadata": {},
   "outputs": [
    {
     "data": {
      "text/plain": [
       "0"
      ]
     },
     "execution_count": 11,
     "metadata": {},
     "output_type": "execute_result"
    }
   ],
   "source": [
    "# Test\n",
    "df.sale_price.isnull().sum()"
   ]
  },
  {
   "cell_type": "markdown",
   "id": "00fadbd5",
   "metadata": {},
   "source": [
    "- our column, sale_price is free of null values"
   ]
  },
  {
   "cell_type": "code",
   "execution_count": 12,
   "id": "14e4484b",
   "metadata": {},
   "outputs": [
    {
     "data": {
      "text/html": [
       "<div>\n",
       "<style scoped>\n",
       "    .dataframe tbody tr th:only-of-type {\n",
       "        vertical-align: middle;\n",
       "    }\n",
       "\n",
       "    .dataframe tbody tr th {\n",
       "        vertical-align: top;\n",
       "    }\n",
       "\n",
       "    .dataframe thead th {\n",
       "        text-align: right;\n",
       "    }\n",
       "</style>\n",
       "<table border=\"1\" class=\"dataframe\">\n",
       "  <thead>\n",
       "    <tr style=\"text-align: right;\">\n",
       "      <th></th>\n",
       "      <th>index</th>\n",
       "      <th>product</th>\n",
       "      <th>category</th>\n",
       "      <th>sub_category</th>\n",
       "      <th>brand</th>\n",
       "      <th>sale_price</th>\n",
       "      <th>market_price</th>\n",
       "      <th>type</th>\n",
       "      <th>rating</th>\n",
       "      <th>description</th>\n",
       "    </tr>\n",
       "  </thead>\n",
       "  <tbody>\n",
       "    <tr>\n",
       "      <th>14363</th>\n",
       "      <td>14364</td>\n",
       "      <td>NaN</td>\n",
       "      <td>Beverages</td>\n",
       "      <td>Coffee</td>\n",
       "      <td>Cothas Coffee</td>\n",
       "      <td>200.0</td>\n",
       "      <td>240.0</td>\n",
       "      <td>Ground Coffee</td>\n",
       "      <td>4.2</td>\n",
       "      <td>Cothas Specialty Blend Coffee and Chicory incl...</td>\n",
       "    </tr>\n",
       "  </tbody>\n",
       "</table>\n",
       "</div>"
      ],
      "text/plain": [
       "       index product   category sub_category          brand  sale_price  \\\n",
       "14363  14364     NaN  Beverages       Coffee  Cothas Coffee       200.0   \n",
       "\n",
       "       market_price           type  rating  \\\n",
       "14363         240.0  Ground Coffee     4.2   \n",
       "\n",
       "                                             description  \n",
       "14363  Cothas Specialty Blend Coffee and Chicory incl...  "
      ]
     },
     "execution_count": 12,
     "metadata": {},
     "output_type": "execute_result"
    }
   ],
   "source": [
    "# Dealimg with null values in product \n",
    "\n",
    "df[df['product'].isnull()]"
   ]
  },
  {
   "cell_type": "code",
   "execution_count": 13,
   "id": "232aaefb",
   "metadata": {},
   "outputs": [],
   "source": [
    "#code\n",
    "df['product'].fillna('coffee' , inplace=True)"
   ]
  },
  {
   "cell_type": "code",
   "execution_count": 14,
   "id": "b4877744",
   "metadata": {},
   "outputs": [
    {
     "data": {
      "text/html": [
       "<div>\n",
       "<style scoped>\n",
       "    .dataframe tbody tr th:only-of-type {\n",
       "        vertical-align: middle;\n",
       "    }\n",
       "\n",
       "    .dataframe tbody tr th {\n",
       "        vertical-align: top;\n",
       "    }\n",
       "\n",
       "    .dataframe thead th {\n",
       "        text-align: right;\n",
       "    }\n",
       "</style>\n",
       "<table border=\"1\" class=\"dataframe\">\n",
       "  <thead>\n",
       "    <tr style=\"text-align: right;\">\n",
       "      <th></th>\n",
       "      <th>index</th>\n",
       "      <th>product</th>\n",
       "      <th>category</th>\n",
       "      <th>sub_category</th>\n",
       "      <th>brand</th>\n",
       "      <th>sale_price</th>\n",
       "      <th>market_price</th>\n",
       "      <th>type</th>\n",
       "      <th>rating</th>\n",
       "      <th>description</th>\n",
       "    </tr>\n",
       "  </thead>\n",
       "  <tbody>\n",
       "  </tbody>\n",
       "</table>\n",
       "</div>"
      ],
      "text/plain": [
       "Empty DataFrame\n",
       "Columns: [index, product, category, sub_category, brand, sale_price, market_price, type, rating, description]\n",
       "Index: []"
      ]
     },
     "execution_count": 14,
     "metadata": {},
     "output_type": "execute_result"
    }
   ],
   "source": [
    "#test\n",
    "df[df['product'].isnull()]"
   ]
  },
  {
   "cell_type": "code",
   "execution_count": 15,
   "id": "e9437f6e",
   "metadata": {},
   "outputs": [
    {
     "data": {
      "text/html": [
       "<div>\n",
       "<style scoped>\n",
       "    .dataframe tbody tr th:only-of-type {\n",
       "        vertical-align: middle;\n",
       "    }\n",
       "\n",
       "    .dataframe tbody tr th {\n",
       "        vertical-align: top;\n",
       "    }\n",
       "\n",
       "    .dataframe thead th {\n",
       "        text-align: right;\n",
       "    }\n",
       "</style>\n",
       "<table border=\"1\" class=\"dataframe\">\n",
       "  <thead>\n",
       "    <tr style=\"text-align: right;\">\n",
       "      <th></th>\n",
       "      <th>index</th>\n",
       "      <th>product</th>\n",
       "      <th>category</th>\n",
       "      <th>sub_category</th>\n",
       "      <th>brand</th>\n",
       "      <th>sale_price</th>\n",
       "      <th>market_price</th>\n",
       "      <th>type</th>\n",
       "      <th>rating</th>\n",
       "      <th>description</th>\n",
       "    </tr>\n",
       "  </thead>\n",
       "  <tbody>\n",
       "    <tr>\n",
       "      <th>9765</th>\n",
       "      <td>9766</td>\n",
       "      <td>Food Package - Medium</td>\n",
       "      <td>Cleaning &amp; Household</td>\n",
       "      <td>Disposables, Garbage Bag</td>\n",
       "      <td>NaN</td>\n",
       "      <td>50.0</td>\n",
       "      <td>50.0</td>\n",
       "      <td>Aluminium Foil, Clingwrap</td>\n",
       "      <td>NaN</td>\n",
       "      <td>NaN</td>\n",
       "    </tr>\n",
       "  </tbody>\n",
       "</table>\n",
       "</div>"
      ],
      "text/plain": [
       "      index                product              category  \\\n",
       "9765   9766  Food Package - Medium  Cleaning & Household   \n",
       "\n",
       "                  sub_category brand  sale_price  market_price  \\\n",
       "9765  Disposables, Garbage Bag   NaN        50.0          50.0   \n",
       "\n",
       "                           type  rating description  \n",
       "9765  Aluminium Foil, Clingwrap     NaN         NaN  "
      ]
     },
     "execution_count": 15,
     "metadata": {},
     "output_type": "execute_result"
    }
   ],
   "source": [
    "# Dealimg with null values in brand column \n",
    "df[df.brand.isnull()]"
   ]
  },
  {
   "cell_type": "code",
   "execution_count": 16,
   "id": "7a5a67e3",
   "metadata": {},
   "outputs": [],
   "source": [
    "#code\n",
    "df.brand.fillna('unknown' , inplace=True )"
   ]
  },
  {
   "cell_type": "code",
   "execution_count": 17,
   "id": "77fe1898",
   "metadata": {},
   "outputs": [
    {
     "data": {
      "text/html": [
       "<div>\n",
       "<style scoped>\n",
       "    .dataframe tbody tr th:only-of-type {\n",
       "        vertical-align: middle;\n",
       "    }\n",
       "\n",
       "    .dataframe tbody tr th {\n",
       "        vertical-align: top;\n",
       "    }\n",
       "\n",
       "    .dataframe thead th {\n",
       "        text-align: right;\n",
       "    }\n",
       "</style>\n",
       "<table border=\"1\" class=\"dataframe\">\n",
       "  <thead>\n",
       "    <tr style=\"text-align: right;\">\n",
       "      <th></th>\n",
       "      <th>index</th>\n",
       "      <th>product</th>\n",
       "      <th>category</th>\n",
       "      <th>sub_category</th>\n",
       "      <th>brand</th>\n",
       "      <th>sale_price</th>\n",
       "      <th>market_price</th>\n",
       "      <th>type</th>\n",
       "      <th>rating</th>\n",
       "      <th>description</th>\n",
       "    </tr>\n",
       "  </thead>\n",
       "  <tbody>\n",
       "  </tbody>\n",
       "</table>\n",
       "</div>"
      ],
      "text/plain": [
       "Empty DataFrame\n",
       "Columns: [index, product, category, sub_category, brand, sale_price, market_price, type, rating, description]\n",
       "Index: []"
      ]
     },
     "execution_count": 17,
     "metadata": {},
     "output_type": "execute_result"
    }
   ],
   "source": [
    "#test\n",
    "df[df.brand.isnull()]"
   ]
  },
  {
   "cell_type": "code",
   "execution_count": 18,
   "id": "d87ac3d9",
   "metadata": {},
   "outputs": [
    {
     "data": {
      "text/plain": [
       "index              0\n",
       "product            0\n",
       "category           0\n",
       "sub_category       0\n",
       "brand              0\n",
       "sale_price         0\n",
       "market_price       0\n",
       "type               0\n",
       "rating          8636\n",
       "description      115\n",
       "dtype: int64"
      ]
     },
     "execution_count": 18,
     "metadata": {},
     "output_type": "execute_result"
    }
   ],
   "source": [
    "df.isnull().sum()"
   ]
  },
  {
   "cell_type": "code",
   "execution_count": 19,
   "id": "fdc94184",
   "metadata": {},
   "outputs": [
    {
     "data": {
      "text/html": [
       "<div>\n",
       "<style scoped>\n",
       "    .dataframe tbody tr th:only-of-type {\n",
       "        vertical-align: middle;\n",
       "    }\n",
       "\n",
       "    .dataframe tbody tr th {\n",
       "        vertical-align: top;\n",
       "    }\n",
       "\n",
       "    .dataframe thead th {\n",
       "        text-align: right;\n",
       "    }\n",
       "</style>\n",
       "<table border=\"1\" class=\"dataframe\">\n",
       "  <thead>\n",
       "    <tr style=\"text-align: right;\">\n",
       "      <th></th>\n",
       "      <th>index</th>\n",
       "      <th>product</th>\n",
       "      <th>category</th>\n",
       "      <th>sub_category</th>\n",
       "      <th>brand</th>\n",
       "      <th>sale_price</th>\n",
       "      <th>market_price</th>\n",
       "      <th>type</th>\n",
       "      <th>rating</th>\n",
       "      <th>description</th>\n",
       "    </tr>\n",
       "  </thead>\n",
       "  <tbody>\n",
       "    <tr>\n",
       "      <th>55</th>\n",
       "      <td>56</td>\n",
       "      <td>Soothing Cucumber Facial Scrub With Apricot Seeds</td>\n",
       "      <td>Beauty &amp; Hygiene</td>\n",
       "      <td>Skin Care</td>\n",
       "      <td>TJORI</td>\n",
       "      <td>299.4</td>\n",
       "      <td>499.0</td>\n",
       "      <td>Face Care</td>\n",
       "      <td>NaN</td>\n",
       "      <td>The soothing feel of cucumber meets the gentle...</td>\n",
       "    </tr>\n",
       "    <tr>\n",
       "      <th>59</th>\n",
       "      <td>60</td>\n",
       "      <td>Corporate Planner Diary With Premium PU Leathe...</td>\n",
       "      <td>Cleaning &amp; Household</td>\n",
       "      <td>Stationery</td>\n",
       "      <td>Prozo Plus</td>\n",
       "      <td>399.0</td>\n",
       "      <td>399.0</td>\n",
       "      <td>Notebooks, Files, Folders</td>\n",
       "      <td>NaN</td>\n",
       "      <td>A5 Size (210x150mm) \\n192 Pages Premium Natura...</td>\n",
       "    </tr>\n",
       "    <tr>\n",
       "      <th>65</th>\n",
       "      <td>66</td>\n",
       "      <td>Ayurvedic Anti-Tan Face Pack</td>\n",
       "      <td>Beauty &amp; Hygiene</td>\n",
       "      <td>Skin Care</td>\n",
       "      <td>TJORI</td>\n",
       "      <td>269.4</td>\n",
       "      <td>449.0</td>\n",
       "      <td>Face Care</td>\n",
       "      <td>NaN</td>\n",
       "      <td>A nourishing face pack that removes tan and br...</td>\n",
       "    </tr>\n",
       "    <tr>\n",
       "      <th>68</th>\n",
       "      <td>69</td>\n",
       "      <td>Organic Carom Seeds/Ajwain/Om Kalu</td>\n",
       "      <td>Foodgrains, Oil &amp; Masala</td>\n",
       "      <td>Masalas &amp; Spices</td>\n",
       "      <td>Earthon</td>\n",
       "      <td>72.0</td>\n",
       "      <td>72.0</td>\n",
       "      <td>Whole Spices</td>\n",
       "      <td>NaN</td>\n",
       "      <td>Earthon's Ajwain is Best quality, organically ...</td>\n",
       "    </tr>\n",
       "    <tr>\n",
       "      <th>69</th>\n",
       "      <td>70</td>\n",
       "      <td>Padded Harness - 3/4 inch, Grey Colour</td>\n",
       "      <td>Kitchen, Garden &amp; Pets</td>\n",
       "      <td>Pet Food &amp; Accessories</td>\n",
       "      <td>Glenand</td>\n",
       "      <td>840.0</td>\n",
       "      <td>840.0</td>\n",
       "      <td>Pet Collars &amp; Leashes</td>\n",
       "      <td>NaN</td>\n",
       "      <td>These are soft padded harness for your active ...</td>\n",
       "    </tr>\n",
       "    <tr>\n",
       "      <th>...</th>\n",
       "      <td>...</td>\n",
       "      <td>...</td>\n",
       "      <td>...</td>\n",
       "      <td>...</td>\n",
       "      <td>...</td>\n",
       "      <td>...</td>\n",
       "      <td>...</td>\n",
       "      <td>...</td>\n",
       "      <td>...</td>\n",
       "      <td>...</td>\n",
       "    </tr>\n",
       "    <tr>\n",
       "      <th>27509</th>\n",
       "      <td>27510</td>\n",
       "      <td>Deluxe Crackers - Veg</td>\n",
       "      <td>Gourmet &amp; World Food</td>\n",
       "      <td>Chocolates &amp; Biscuits</td>\n",
       "      <td>Kerk</td>\n",
       "      <td>150.0</td>\n",
       "      <td>150.0</td>\n",
       "      <td>Cookies, Biscotti, Wafer</td>\n",
       "      <td>NaN</td>\n",
       "      <td>Kerk Biscuits-has been a household name synony...</td>\n",
       "    </tr>\n",
       "    <tr>\n",
       "      <th>27511</th>\n",
       "      <td>27512</td>\n",
       "      <td>Specialist Stain Remover Pen &amp; Marker</td>\n",
       "      <td>Cleaning &amp; Household</td>\n",
       "      <td>All Purpose Cleaners</td>\n",
       "      <td>365</td>\n",
       "      <td>449.0</td>\n",
       "      <td>449.0</td>\n",
       "      <td>Imported Cleaners</td>\n",
       "      <td>NaN</td>\n",
       "      <td>Mightier than the pen. The pen may be mightier...</td>\n",
       "    </tr>\n",
       "    <tr>\n",
       "      <th>27514</th>\n",
       "      <td>27515</td>\n",
       "      <td>Verge &amp; Sheer Perfume For Pair</td>\n",
       "      <td>Beauty &amp; Hygiene</td>\n",
       "      <td>Fragrances &amp; Deos</td>\n",
       "      <td>Skinn by Titan</td>\n",
       "      <td>1615.5</td>\n",
       "      <td>1795.0</td>\n",
       "      <td>Perfume</td>\n",
       "      <td>NaN</td>\n",
       "      <td>VERGE for men paints a picture of a classy out...</td>\n",
       "    </tr>\n",
       "    <tr>\n",
       "      <th>27530</th>\n",
       "      <td>27531</td>\n",
       "      <td>Tick'et to Fleadom Dry Shampoo For Dogs</td>\n",
       "      <td>Kitchen, Garden &amp; Pets</td>\n",
       "      <td>Pet Food &amp; Accessories</td>\n",
       "      <td>Captain Zack</td>\n",
       "      <td>99.0</td>\n",
       "      <td>99.0</td>\n",
       "      <td>Pet Cleaning &amp; Grooming</td>\n",
       "      <td>NaN</td>\n",
       "      <td>1) No Rinse Defence Against Ticks and Fleas: C...</td>\n",
       "    </tr>\n",
       "    <tr>\n",
       "      <th>27531</th>\n",
       "      <td>27532</td>\n",
       "      <td>Vanilla Ice Cream</td>\n",
       "      <td>Gourmet &amp; World Food</td>\n",
       "      <td>Dairy &amp; Cheese</td>\n",
       "      <td>Haagen-Dazs</td>\n",
       "      <td>225.0</td>\n",
       "      <td>225.0</td>\n",
       "      <td>Gourmet Ice Cream</td>\n",
       "      <td>NaN</td>\n",
       "      <td>Some things are so good in their simplest form...</td>\n",
       "    </tr>\n",
       "  </tbody>\n",
       "</table>\n",
       "<p>8636 rows × 10 columns</p>\n",
       "</div>"
      ],
      "text/plain": [
       "       index                                            product  \\\n",
       "55        56  Soothing Cucumber Facial Scrub With Apricot Seeds   \n",
       "59        60  Corporate Planner Diary With Premium PU Leathe...   \n",
       "65        66                       Ayurvedic Anti-Tan Face Pack   \n",
       "68        69                 Organic Carom Seeds/Ajwain/Om Kalu   \n",
       "69        70             Padded Harness - 3/4 inch, Grey Colour   \n",
       "...      ...                                                ...   \n",
       "27509  27510                              Deluxe Crackers - Veg   \n",
       "27511  27512              Specialist Stain Remover Pen & Marker   \n",
       "27514  27515                     Verge & Sheer Perfume For Pair   \n",
       "27530  27531            Tick'et to Fleadom Dry Shampoo For Dogs   \n",
       "27531  27532                                  Vanilla Ice Cream   \n",
       "\n",
       "                       category            sub_category           brand  \\\n",
       "55             Beauty & Hygiene               Skin Care           TJORI   \n",
       "59         Cleaning & Household              Stationery      Prozo Plus   \n",
       "65             Beauty & Hygiene               Skin Care           TJORI   \n",
       "68     Foodgrains, Oil & Masala        Masalas & Spices         Earthon   \n",
       "69       Kitchen, Garden & Pets  Pet Food & Accessories         Glenand   \n",
       "...                         ...                     ...             ...   \n",
       "27509      Gourmet & World Food   Chocolates & Biscuits            Kerk   \n",
       "27511      Cleaning & Household    All Purpose Cleaners             365   \n",
       "27514          Beauty & Hygiene       Fragrances & Deos  Skinn by Titan   \n",
       "27530    Kitchen, Garden & Pets  Pet Food & Accessories    Captain Zack   \n",
       "27531      Gourmet & World Food          Dairy & Cheese     Haagen-Dazs   \n",
       "\n",
       "       sale_price  market_price                       type  rating  \\\n",
       "55          299.4         499.0                  Face Care     NaN   \n",
       "59          399.0         399.0  Notebooks, Files, Folders     NaN   \n",
       "65          269.4         449.0                  Face Care     NaN   \n",
       "68           72.0          72.0               Whole Spices     NaN   \n",
       "69          840.0         840.0      Pet Collars & Leashes     NaN   \n",
       "...           ...           ...                        ...     ...   \n",
       "27509       150.0         150.0   Cookies, Biscotti, Wafer     NaN   \n",
       "27511       449.0         449.0          Imported Cleaners     NaN   \n",
       "27514      1615.5        1795.0                    Perfume     NaN   \n",
       "27530        99.0          99.0    Pet Cleaning & Grooming     NaN   \n",
       "27531       225.0         225.0          Gourmet Ice Cream     NaN   \n",
       "\n",
       "                                             description  \n",
       "55     The soothing feel of cucumber meets the gentle...  \n",
       "59     A5 Size (210x150mm) \\n192 Pages Premium Natura...  \n",
       "65     A nourishing face pack that removes tan and br...  \n",
       "68     Earthon's Ajwain is Best quality, organically ...  \n",
       "69     These are soft padded harness for your active ...  \n",
       "...                                                  ...  \n",
       "27509  Kerk Biscuits-has been a household name synony...  \n",
       "27511  Mightier than the pen. The pen may be mightier...  \n",
       "27514  VERGE for men paints a picture of a classy out...  \n",
       "27530  1) No Rinse Defence Against Ticks and Fleas: C...  \n",
       "27531  Some things are so good in their simplest form...  \n",
       "\n",
       "[8636 rows x 10 columns]"
      ]
     },
     "execution_count": 19,
     "metadata": {},
     "output_type": "execute_result"
    }
   ],
   "source": [
    "df[df.rating.isnull()]"
   ]
  },
  {
   "cell_type": "code",
   "execution_count": 20,
   "id": "122159ab",
   "metadata": {},
   "outputs": [
    {
     "data": {
      "text/plain": [
       "rating\n",
       "4.2    2249\n",
       "4.3    2138\n",
       "4.0    2089\n",
       "4.1    1767\n",
       "5.0    1407\n",
       "4.4    1037\n",
       "3.9     932\n",
       "3.8     866\n",
       "4.5     797\n",
       "3.0     684\n",
       "3.7     672\n",
       "3.5     535\n",
       "3.6     447\n",
       "3.3     400\n",
       "1.0     387\n",
       "4.6     322\n",
       "3.4     303\n",
       "4.7     287\n",
       "2.0     237\n",
       "4.8     199\n",
       "3.2     181\n",
       "3.1     163\n",
       "2.5     132\n",
       "2.8     125\n",
       "2.7     116\n",
       "2.3      94\n",
       "2.9      79\n",
       "2.6      58\n",
       "4.9      53\n",
       "1.5      32\n",
       "2.4      29\n",
       "2.2      24\n",
       "1.8      22\n",
       "1.7      22\n",
       "2.1      10\n",
       "1.3       9\n",
       "1.4       6\n",
       "1.9       4\n",
       "1.6       3\n",
       "1.2       2\n",
       "Name: count, dtype: int64"
      ]
     },
     "execution_count": 20,
     "metadata": {},
     "output_type": "execute_result"
    }
   ],
   "source": [
    "df.rating.value_counts()"
   ]
  },
  {
   "cell_type": "code",
   "execution_count": 21,
   "id": "ad4ac059",
   "metadata": {},
   "outputs": [],
   "source": [
    "# code\n",
    "\n",
    "df.rating.fillna(0 , inplace=True)\n"
   ]
  },
  {
   "cell_type": "code",
   "execution_count": 22,
   "id": "382fd9f1",
   "metadata": {},
   "outputs": [
    {
     "data": {
      "text/plain": [
       "0"
      ]
     },
     "execution_count": 22,
     "metadata": {},
     "output_type": "execute_result"
    }
   ],
   "source": [
    "#test\n",
    "df.rating.isnull().sum()"
   ]
  },
  {
   "cell_type": "code",
   "execution_count": 23,
   "id": "22c06768",
   "metadata": {},
   "outputs": [],
   "source": [
    "# Filling null values in description column \n",
    "#code\n",
    "df.description.fillna('No Description' , inplace=True)"
   ]
  },
  {
   "cell_type": "code",
   "execution_count": 24,
   "id": "26e8b8a6",
   "metadata": {},
   "outputs": [
    {
     "data": {
      "text/plain": [
       "index           0\n",
       "product         0\n",
       "category        0\n",
       "sub_category    0\n",
       "brand           0\n",
       "sale_price      0\n",
       "market_price    0\n",
       "type            0\n",
       "rating          0\n",
       "description     0\n",
       "dtype: int64"
      ]
     },
     "execution_count": 24,
     "metadata": {},
     "output_type": "execute_result"
    }
   ],
   "source": [
    "#test \n",
    "df.isnull().sum()"
   ]
  },
  {
   "cell_type": "markdown",
   "id": "b3acd5c4",
   "metadata": {},
   "source": [
    "- Now our data is free of null values"
   ]
  },
  {
   "cell_type": "code",
   "execution_count": 25,
   "id": "c9b58208",
   "metadata": {},
   "outputs": [
    {
     "data": {
      "text/plain": [
       "0"
      ]
     },
     "execution_count": 25,
     "metadata": {},
     "output_type": "execute_result"
    }
   ],
   "source": [
    "# checking for any duplicated values in our dataset\n",
    "\n",
    "df.duplicated().sum()"
   ]
  },
  {
   "cell_type": "markdown",
   "id": "781670d9",
   "metadata": {},
   "source": [
    "- there are no duplicate values in this data"
   ]
  },
  {
   "cell_type": "code",
   "execution_count": 26,
   "id": "f934afa1",
   "metadata": {},
   "outputs": [],
   "source": [
    "# Checking the accuracy of our dataset"
   ]
  },
  {
   "cell_type": "code",
   "execution_count": 27,
   "id": "c8dd42e5",
   "metadata": {},
   "outputs": [
    {
     "data": {
      "image/png": "[encoded data removed]",
      "text/plain": [
       "<Figure size 640x480 with 1 Axes>"
      ]
     },
     "metadata": {},
     "output_type": "display_data"
    }
   ],
   "source": [
    "# Finding outliers using boxplot \n",
    "\n",
    "sns.boxplot(df.sale_price)\n",
    "plt.show()"
   ]
  },
  {
   "cell_type": "markdown",
   "id": "53686acf",
   "metadata": {},
   "source": [
    "- Not a good visualisation\n",
    "- We can see Most of the outliers are above 20,000"
   ]
  },
  {
   "cell_type": "code",
   "execution_count": 28,
   "id": "0ac70508",
   "metadata": {},
   "outputs": [
    {
     "data": {
      "text/html": [
       "<div>\n",
       "<style scoped>\n",
       "    .dataframe tbody tr th:only-of-type {\n",
       "        vertical-align: middle;\n",
       "    }\n",
       "\n",
       "    .dataframe tbody tr th {\n",
       "        vertical-align: top;\n",
       "    }\n",
       "\n",
       "    .dataframe thead th {\n",
       "        text-align: right;\n",
       "    }\n",
       "</style>\n",
       "<table border=\"1\" class=\"dataframe\">\n",
       "  <thead>\n",
       "    <tr style=\"text-align: right;\">\n",
       "      <th></th>\n",
       "      <th>index</th>\n",
       "      <th>product</th>\n",
       "      <th>category</th>\n",
       "      <th>sub_category</th>\n",
       "      <th>brand</th>\n",
       "      <th>sale_price</th>\n",
       "      <th>market_price</th>\n",
       "      <th>type</th>\n",
       "      <th>rating</th>\n",
       "      <th>description</th>\n",
       "    </tr>\n",
       "  </thead>\n",
       "  <tbody>\n",
       "    <tr>\n",
       "      <th>248</th>\n",
       "      <td>249</td>\n",
       "      <td>4mm Aluminium Induction Base Chapati Roti Tawa...</td>\n",
       "      <td>Kitchen, Garden &amp; Pets</td>\n",
       "      <td>Cookware &amp; Non Stick</td>\n",
       "      <td>HAZEL</td>\n",
       "      <td>111649.0</td>\n",
       "      <td>1289.0</td>\n",
       "      <td>Tawa &amp; Sauce Pan</td>\n",
       "      <td>0.0</td>\n",
       "      <td>Hazel Aluminium Tawa has an ergonomic design f...</td>\n",
       "    </tr>\n",
       "    <tr>\n",
       "      <th>288</th>\n",
       "      <td>289</td>\n",
       "      <td>Arrabbiata Tomato Pasta Sauce With Chilli</td>\n",
       "      <td>Gourmet &amp; World Food</td>\n",
       "      <td>Sauces, Spreads &amp; Dips</td>\n",
       "      <td>Montanini</td>\n",
       "      <td>22325.0</td>\n",
       "      <td>325.0</td>\n",
       "      <td>Mustard &amp; Cheese Sauces</td>\n",
       "      <td>5.0</td>\n",
       "      <td>No Description</td>\n",
       "    </tr>\n",
       "    <tr>\n",
       "      <th>412</th>\n",
       "      <td>413</td>\n",
       "      <td>Original Care Lip Balm For 24h Moisture With S...</td>\n",
       "      <td>Beauty &amp; Hygiene</td>\n",
       "      <td>Skin Care</td>\n",
       "      <td>Nivea</td>\n",
       "      <td>1114.8</td>\n",
       "      <td>140.0</td>\n",
       "      <td>Lip Care</td>\n",
       "      <td>4.3</td>\n",
       "      <td>Nivea Original Care Lip Blam nourishes lips in...</td>\n",
       "    </tr>\n",
       "    <tr>\n",
       "      <th>436</th>\n",
       "      <td>437</td>\n",
       "      <td>Balloon - Polka Dot, 12 Inch</td>\n",
       "      <td>Cleaning &amp; Household</td>\n",
       "      <td>Party &amp; Festive Needs</td>\n",
       "      <td>B Vishal</td>\n",
       "      <td>88899.0</td>\n",
       "      <td>129.0</td>\n",
       "      <td>Caps, Balloons &amp; Candles</td>\n",
       "      <td>3.9</td>\n",
       "      <td>Whether it is a party in the office, a Christm...</td>\n",
       "    </tr>\n",
       "    <tr>\n",
       "      <th>1249</th>\n",
       "      <td>1250</td>\n",
       "      <td>Beard Kit</td>\n",
       "      <td>Beauty &amp; Hygiene</td>\n",
       "      <td>Men's Grooming</td>\n",
       "      <td>Uncle Tony</td>\n",
       "      <td>112475.0</td>\n",
       "      <td>3300.0</td>\n",
       "      <td>Combos &amp; Gift Sets</td>\n",
       "      <td>0.0</td>\n",
       "      <td>The combination of a beard oil, a beard wash, ...</td>\n",
       "    </tr>\n",
       "  </tbody>\n",
       "</table>\n",
       "</div>"
      ],
      "text/plain": [
       "      index                                            product  \\\n",
       "248     249  4mm Aluminium Induction Base Chapati Roti Tawa...   \n",
       "288     289          Arrabbiata Tomato Pasta Sauce With Chilli   \n",
       "412     413  Original Care Lip Balm For 24h Moisture With S...   \n",
       "436     437                       Balloon - Polka Dot, 12 Inch   \n",
       "1249   1250                                          Beard Kit   \n",
       "\n",
       "                    category            sub_category       brand  sale_price  \\\n",
       "248   Kitchen, Garden & Pets    Cookware & Non Stick       HAZEL    111649.0   \n",
       "288     Gourmet & World Food  Sauces, Spreads & Dips   Montanini     22325.0   \n",
       "412         Beauty & Hygiene               Skin Care       Nivea      1114.8   \n",
       "436     Cleaning & Household   Party & Festive Needs    B Vishal     88899.0   \n",
       "1249        Beauty & Hygiene          Men's Grooming  Uncle Tony    112475.0   \n",
       "\n",
       "      market_price                      type  rating  \\\n",
       "248         1289.0          Tawa & Sauce Pan     0.0   \n",
       "288          325.0   Mustard & Cheese Sauces     5.0   \n",
       "412          140.0                  Lip Care     4.3   \n",
       "436          129.0  Caps, Balloons & Candles     3.9   \n",
       "1249        3300.0        Combos & Gift Sets     0.0   \n",
       "\n",
       "                                            description  \n",
       "248   Hazel Aluminium Tawa has an ergonomic design f...  \n",
       "288                                      No Description  \n",
       "412   Nivea Original Care Lip Blam nourishes lips in...  \n",
       "436   Whether it is a party in the office, a Christm...  \n",
       "1249  The combination of a beard oil, a beard wash, ...  "
      ]
     },
     "execution_count": 28,
     "metadata": {},
     "output_type": "execute_result"
    }
   ],
   "source": [
    "df[df.sale_price> df.market_price]"
   ]
  },
  {
   "cell_type": "markdown",
   "id": "4f15fe88",
   "metadata": {},
   "source": [
    "- these are wrong entries clearly as sale price is more than market price and thats not possible"
   ]
  },
  {
   "cell_type": "code",
   "execution_count": 29,
   "id": "dfd8e324",
   "metadata": {},
   "outputs": [
    {
     "data": {
      "text/plain": [
       "<Axes: xlabel='market_price', ylabel='sale_price'>"
      ]
     },
     "execution_count": 29,
     "metadata": {},
     "output_type": "execute_result"
    },
    {
     "data": {
      "image/png": "[encoded data removed]",
      "text/plain": [
       "<Figure size 640x480 with 1 Axes>"
      ]
     },
     "metadata": {},
     "output_type": "display_data"
    }
   ],
   "source": [
    "# Scatterplot\n",
    "sns.scatterplot(data=df , y='sale_price' , x='market_price' )"
   ]
  },
  {
   "cell_type": "code",
   "execution_count": 30,
   "id": "03705bfc",
   "metadata": {},
   "outputs": [
    {
     "data": {
      "text/html": [
       "<div>\n",
       "<style scoped>\n",
       "    .dataframe tbody tr th:only-of-type {\n",
       "        vertical-align: middle;\n",
       "    }\n",
       "\n",
       "    .dataframe tbody tr th {\n",
       "        vertical-align: top;\n",
       "    }\n",
       "\n",
       "    .dataframe thead th {\n",
       "        text-align: right;\n",
       "    }\n",
       "</style>\n",
       "<table border=\"1\" class=\"dataframe\">\n",
       "  <thead>\n",
       "    <tr style=\"text-align: right;\">\n",
       "      <th></th>\n",
       "      <th>index</th>\n",
       "      <th>product</th>\n",
       "      <th>category</th>\n",
       "      <th>sub_category</th>\n",
       "      <th>brand</th>\n",
       "      <th>sale_price</th>\n",
       "      <th>market_price</th>\n",
       "      <th>type</th>\n",
       "      <th>rating</th>\n",
       "      <th>description</th>\n",
       "    </tr>\n",
       "  </thead>\n",
       "  <tbody>\n",
       "    <tr>\n",
       "      <th>248</th>\n",
       "      <td>249</td>\n",
       "      <td>4mm Aluminium Induction Base Chapati Roti Tawa...</td>\n",
       "      <td>Kitchen, Garden &amp; Pets</td>\n",
       "      <td>Cookware &amp; Non Stick</td>\n",
       "      <td>HAZEL</td>\n",
       "      <td>111649.0</td>\n",
       "      <td>1289.0</td>\n",
       "      <td>Tawa &amp; Sauce Pan</td>\n",
       "      <td>0.0</td>\n",
       "      <td>Hazel Aluminium Tawa has an ergonomic design f...</td>\n",
       "    </tr>\n",
       "    <tr>\n",
       "      <th>288</th>\n",
       "      <td>289</td>\n",
       "      <td>Arrabbiata Tomato Pasta Sauce With Chilli</td>\n",
       "      <td>Gourmet &amp; World Food</td>\n",
       "      <td>Sauces, Spreads &amp; Dips</td>\n",
       "      <td>Montanini</td>\n",
       "      <td>22325.0</td>\n",
       "      <td>325.0</td>\n",
       "      <td>Mustard &amp; Cheese Sauces</td>\n",
       "      <td>5.0</td>\n",
       "      <td>No Description</td>\n",
       "    </tr>\n",
       "    <tr>\n",
       "      <th>412</th>\n",
       "      <td>413</td>\n",
       "      <td>Original Care Lip Balm For 24h Moisture With S...</td>\n",
       "      <td>Beauty &amp; Hygiene</td>\n",
       "      <td>Skin Care</td>\n",
       "      <td>Nivea</td>\n",
       "      <td>1114.8</td>\n",
       "      <td>140.0</td>\n",
       "      <td>Lip Care</td>\n",
       "      <td>4.3</td>\n",
       "      <td>Nivea Original Care Lip Blam nourishes lips in...</td>\n",
       "    </tr>\n",
       "    <tr>\n",
       "      <th>436</th>\n",
       "      <td>437</td>\n",
       "      <td>Balloon - Polka Dot, 12 Inch</td>\n",
       "      <td>Cleaning &amp; Household</td>\n",
       "      <td>Party &amp; Festive Needs</td>\n",
       "      <td>B Vishal</td>\n",
       "      <td>88899.0</td>\n",
       "      <td>129.0</td>\n",
       "      <td>Caps, Balloons &amp; Candles</td>\n",
       "      <td>3.9</td>\n",
       "      <td>Whether it is a party in the office, a Christm...</td>\n",
       "    </tr>\n",
       "    <tr>\n",
       "      <th>1249</th>\n",
       "      <td>1250</td>\n",
       "      <td>Beard Kit</td>\n",
       "      <td>Beauty &amp; Hygiene</td>\n",
       "      <td>Men's Grooming</td>\n",
       "      <td>Uncle Tony</td>\n",
       "      <td>112475.0</td>\n",
       "      <td>3300.0</td>\n",
       "      <td>Combos &amp; Gift Sets</td>\n",
       "      <td>0.0</td>\n",
       "      <td>The combination of a beard oil, a beard wash, ...</td>\n",
       "    </tr>\n",
       "  </tbody>\n",
       "</table>\n",
       "</div>"
      ],
      "text/plain": [
       "      index                                            product  \\\n",
       "248     249  4mm Aluminium Induction Base Chapati Roti Tawa...   \n",
       "288     289          Arrabbiata Tomato Pasta Sauce With Chilli   \n",
       "412     413  Original Care Lip Balm For 24h Moisture With S...   \n",
       "436     437                       Balloon - Polka Dot, 12 Inch   \n",
       "1249   1250                                          Beard Kit   \n",
       "\n",
       "                    category            sub_category       brand  sale_price  \\\n",
       "248   Kitchen, Garden & Pets    Cookware & Non Stick       HAZEL    111649.0   \n",
       "288     Gourmet & World Food  Sauces, Spreads & Dips   Montanini     22325.0   \n",
       "412         Beauty & Hygiene               Skin Care       Nivea      1114.8   \n",
       "436     Cleaning & Household   Party & Festive Needs    B Vishal     88899.0   \n",
       "1249        Beauty & Hygiene          Men's Grooming  Uncle Tony    112475.0   \n",
       "\n",
       "      market_price                      type  rating  \\\n",
       "248         1289.0          Tawa & Sauce Pan     0.0   \n",
       "288          325.0   Mustard & Cheese Sauces     5.0   \n",
       "412          140.0                  Lip Care     4.3   \n",
       "436          129.0  Caps, Balloons & Candles     3.9   \n",
       "1249        3300.0        Combos & Gift Sets     0.0   \n",
       "\n",
       "                                            description  \n",
       "248   Hazel Aluminium Tawa has an ergonomic design f...  \n",
       "288                                      No Description  \n",
       "412   Nivea Original Care Lip Blam nourishes lips in...  \n",
       "436   Whether it is a party in the office, a Christm...  \n",
       "1249  The combination of a beard oil, a beard wash, ...  "
      ]
     },
     "execution_count": 30,
     "metadata": {},
     "output_type": "execute_result"
    }
   ],
   "source": [
    "df[df.sale_price> df.market_price]"
   ]
  },
  {
   "cell_type": "markdown",
   "id": "2ac04724",
   "metadata": {},
   "source": [
    "- We will replace the wrong values with market price"
   ]
  },
  {
   "cell_type": "code",
   "execution_count": 31,
   "id": "bed624b3",
   "metadata": {},
   "outputs": [],
   "source": [
    "# Code - to replace wrong values\n",
    "df.sale_price=np.where(df.sale_price>df.market_price , df.market_price , df.sale_price )"
   ]
  },
  {
   "cell_type": "code",
   "execution_count": 32,
   "id": "546bec51",
   "metadata": {},
   "outputs": [
    {
     "data": {
      "text/html": [
       "<div>\n",
       "<style scoped>\n",
       "    .dataframe tbody tr th:only-of-type {\n",
       "        vertical-align: middle;\n",
       "    }\n",
       "\n",
       "    .dataframe tbody tr th {\n",
       "        vertical-align: top;\n",
       "    }\n",
       "\n",
       "    .dataframe thead th {\n",
       "        text-align: right;\n",
       "    }\n",
       "</style>\n",
       "<table border=\"1\" class=\"dataframe\">\n",
       "  <thead>\n",
       "    <tr style=\"text-align: right;\">\n",
       "      <th></th>\n",
       "      <th>index</th>\n",
       "      <th>product</th>\n",
       "      <th>category</th>\n",
       "      <th>sub_category</th>\n",
       "      <th>brand</th>\n",
       "      <th>sale_price</th>\n",
       "      <th>market_price</th>\n",
       "      <th>type</th>\n",
       "      <th>rating</th>\n",
       "      <th>description</th>\n",
       "    </tr>\n",
       "  </thead>\n",
       "  <tbody>\n",
       "  </tbody>\n",
       "</table>\n",
       "</div>"
      ],
      "text/plain": [
       "Empty DataFrame\n",
       "Columns: [index, product, category, sub_category, brand, sale_price, market_price, type, rating, description]\n",
       "Index: []"
      ]
     },
     "execution_count": 32,
     "metadata": {},
     "output_type": "execute_result"
    }
   ],
   "source": [
    "df[df.sale_price>df.market_price]"
   ]
  },
  {
   "cell_type": "markdown",
   "id": "a83b35dc",
   "metadata": {},
   "source": [
    "- Now the values are replaced, no more wrong entries"
   ]
  },
  {
   "cell_type": "code",
   "execution_count": 33,
   "id": "dc3269bd",
   "metadata": {},
   "outputs": [
    {
     "data": {
      "text/plain": [
       "<Axes: xlabel='market_price', ylabel='sale_price'>"
      ]
     },
     "execution_count": 33,
     "metadata": {},
     "output_type": "execute_result"
    },
    {
     "data": {
      "image/png": "[encoded data removed]",
      "text/plain": [
       "<Figure size 640x480 with 1 Axes>"
      ]
     },
     "metadata": {},
     "output_type": "display_data"
    }
   ],
   "source": [
    "sns.scatterplot(data=df, x='market_price' , y= 'sale_price')\n"
   ]
  },
  {
   "cell_type": "code",
   "execution_count": 34,
   "id": "996ba573",
   "metadata": {},
   "outputs": [],
   "source": [
    "# Deleting unnecessary\n",
    "\n",
    "df=df.drop(['index'],axis=1)"
   ]
  },
  {
   "cell_type": "code",
   "execution_count": 35,
   "id": "cd98a7c8",
   "metadata": {},
   "outputs": [],
   "source": [
    "# Saving a copy of dataset \n",
    "\n",
    "df.to_csv('Bigbasket_clean.csv' , index=False)"
   ]
  },
  {
   "cell_type": "code",
   "execution_count": 36,
   "id": "1769d00f",
   "metadata": {},
   "outputs": [],
   "source": [
    "# Loading clean dataset in df\n",
    "\n",
    "\n",
    "df = pd.read_csv('Bigbasket_clean.csv')"
   ]
  },
  {
   "cell_type": "code",
   "execution_count": 37,
   "id": "86fc185f",
   "metadata": {},
   "outputs": [
    {
     "data": {
      "text/html": [
       "<div>\n",
       "<style scoped>\n",
       "    .dataframe tbody tr th:only-of-type {\n",
       "        vertical-align: middle;\n",
       "    }\n",
       "\n",
       "    .dataframe tbody tr th {\n",
       "        vertical-align: top;\n",
       "    }\n",
       "\n",
       "    .dataframe thead th {\n",
       "        text-align: right;\n",
       "    }\n",
       "</style>\n",
       "<table border=\"1\" class=\"dataframe\">\n",
       "  <thead>\n",
       "    <tr style=\"text-align: right;\">\n",
       "      <th></th>\n",
       "      <th>product</th>\n",
       "      <th>category</th>\n",
       "      <th>sub_category</th>\n",
       "      <th>brand</th>\n",
       "      <th>sale_price</th>\n",
       "      <th>market_price</th>\n",
       "      <th>type</th>\n",
       "      <th>rating</th>\n",
       "      <th>description</th>\n",
       "    </tr>\n",
       "  </thead>\n",
       "  <tbody>\n",
       "    <tr>\n",
       "      <th>0</th>\n",
       "      <td>Garlic Oil - Vegetarian Capsule 500 mg</td>\n",
       "      <td>Beauty &amp; Hygiene</td>\n",
       "      <td>Hair Care</td>\n",
       "      <td>Sri Sri Ayurveda</td>\n",
       "      <td>220.00</td>\n",
       "      <td>220.0</td>\n",
       "      <td>Hair Oil &amp; Serum</td>\n",
       "      <td>4.1</td>\n",
       "      <td>This Product contains Garlic Oil that is known...</td>\n",
       "    </tr>\n",
       "    <tr>\n",
       "      <th>1</th>\n",
       "      <td>Water Bottle - Orange</td>\n",
       "      <td>Kitchen, Garden &amp; Pets</td>\n",
       "      <td>Storage &amp; Accessories</td>\n",
       "      <td>Mastercook</td>\n",
       "      <td>180.00</td>\n",
       "      <td>180.0</td>\n",
       "      <td>Water &amp; Fridge Bottles</td>\n",
       "      <td>2.3</td>\n",
       "      <td>Each product is microwave safe (without lid), ...</td>\n",
       "    </tr>\n",
       "    <tr>\n",
       "      <th>2</th>\n",
       "      <td>Brass Angle Deep - Plain, No.2</td>\n",
       "      <td>Cleaning &amp; Household</td>\n",
       "      <td>Pooja Needs</td>\n",
       "      <td>Trm</td>\n",
       "      <td>119.00</td>\n",
       "      <td>250.0</td>\n",
       "      <td>Lamp &amp; Lamp Oil</td>\n",
       "      <td>3.4</td>\n",
       "      <td>A perfect gift for all occasions, be it your m...</td>\n",
       "    </tr>\n",
       "    <tr>\n",
       "      <th>3</th>\n",
       "      <td>Cereal Flip Lid Container/Storage Jar - Assort...</td>\n",
       "      <td>Cleaning &amp; Household</td>\n",
       "      <td>Bins &amp; Bathroom Ware</td>\n",
       "      <td>Nakoda</td>\n",
       "      <td>149.00</td>\n",
       "      <td>176.0</td>\n",
       "      <td>Laundry, Storage Baskets</td>\n",
       "      <td>3.7</td>\n",
       "      <td>Multipurpose container with an attractive desi...</td>\n",
       "    </tr>\n",
       "    <tr>\n",
       "      <th>4</th>\n",
       "      <td>Creme Soft Soap - For Hands &amp; Body</td>\n",
       "      <td>Beauty &amp; Hygiene</td>\n",
       "      <td>Bath &amp; Hand Wash</td>\n",
       "      <td>Nivea</td>\n",
       "      <td>162.00</td>\n",
       "      <td>162.0</td>\n",
       "      <td>Bathing Bars &amp; Soaps</td>\n",
       "      <td>4.4</td>\n",
       "      <td>Nivea Creme Soft Soap gives your skin the best...</td>\n",
       "    </tr>\n",
       "    <tr>\n",
       "      <th>...</th>\n",
       "      <td>...</td>\n",
       "      <td>...</td>\n",
       "      <td>...</td>\n",
       "      <td>...</td>\n",
       "      <td>...</td>\n",
       "      <td>...</td>\n",
       "      <td>...</td>\n",
       "      <td>...</td>\n",
       "      <td>...</td>\n",
       "    </tr>\n",
       "    <tr>\n",
       "      <th>27550</th>\n",
       "      <td>Wottagirl! Perfume Spray - Heaven, Classic</td>\n",
       "      <td>Beauty &amp; Hygiene</td>\n",
       "      <td>Fragrances &amp; Deos</td>\n",
       "      <td>Layerr</td>\n",
       "      <td>199.20</td>\n",
       "      <td>249.0</td>\n",
       "      <td>Perfume</td>\n",
       "      <td>3.9</td>\n",
       "      <td>Layerr brings you Wottagirl Classic fragrant b...</td>\n",
       "    </tr>\n",
       "    <tr>\n",
       "      <th>27551</th>\n",
       "      <td>Rosemary</td>\n",
       "      <td>Gourmet &amp; World Food</td>\n",
       "      <td>Cooking &amp; Baking Needs</td>\n",
       "      <td>Puramate</td>\n",
       "      <td>67.50</td>\n",
       "      <td>75.0</td>\n",
       "      <td>Herbs, Seasonings &amp; Rubs</td>\n",
       "      <td>4.0</td>\n",
       "      <td>Puramate rosemary is enough to transform a dis...</td>\n",
       "    </tr>\n",
       "    <tr>\n",
       "      <th>27552</th>\n",
       "      <td>Peri-Peri Sweet Potato Chips</td>\n",
       "      <td>Gourmet &amp; World Food</td>\n",
       "      <td>Snacks, Dry Fruits, Nuts</td>\n",
       "      <td>FabBox</td>\n",
       "      <td>200.00</td>\n",
       "      <td>200.0</td>\n",
       "      <td>Nachos &amp; Chips</td>\n",
       "      <td>3.8</td>\n",
       "      <td>We have taken the richness of Sweet Potatoes (...</td>\n",
       "    </tr>\n",
       "    <tr>\n",
       "      <th>27553</th>\n",
       "      <td>Green Tea - Pure Original</td>\n",
       "      <td>Beverages</td>\n",
       "      <td>Tea</td>\n",
       "      <td>Tetley</td>\n",
       "      <td>396.00</td>\n",
       "      <td>495.0</td>\n",
       "      <td>Tea Bags</td>\n",
       "      <td>4.2</td>\n",
       "      <td>Tetley Green Tea with its refreshing pure, ori...</td>\n",
       "    </tr>\n",
       "    <tr>\n",
       "      <th>27554</th>\n",
       "      <td>United Dreams Go Far Deodorant</td>\n",
       "      <td>Beauty &amp; Hygiene</td>\n",
       "      <td>Men's Grooming</td>\n",
       "      <td>United Colors Of Benetton</td>\n",
       "      <td>214.53</td>\n",
       "      <td>390.0</td>\n",
       "      <td>Men's Deodorants</td>\n",
       "      <td>4.5</td>\n",
       "      <td>The new mens fragrance from the United Dreams ...</td>\n",
       "    </tr>\n",
       "  </tbody>\n",
       "</table>\n",
       "<p>27555 rows × 9 columns</p>\n",
       "</div>"
      ],
      "text/plain": [
       "                                                 product  \\\n",
       "0                 Garlic Oil - Vegetarian Capsule 500 mg   \n",
       "1                                  Water Bottle - Orange   \n",
       "2                         Brass Angle Deep - Plain, No.2   \n",
       "3      Cereal Flip Lid Container/Storage Jar - Assort...   \n",
       "4                     Creme Soft Soap - For Hands & Body   \n",
       "...                                                  ...   \n",
       "27550         Wottagirl! Perfume Spray - Heaven, Classic   \n",
       "27551                                           Rosemary   \n",
       "27552                       Peri-Peri Sweet Potato Chips   \n",
       "27553                          Green Tea - Pure Original   \n",
       "27554                     United Dreams Go Far Deodorant   \n",
       "\n",
       "                     category              sub_category  \\\n",
       "0            Beauty & Hygiene                 Hair Care   \n",
       "1      Kitchen, Garden & Pets     Storage & Accessories   \n",
       "2        Cleaning & Household               Pooja Needs   \n",
       "3        Cleaning & Household      Bins & Bathroom Ware   \n",
       "4            Beauty & Hygiene          Bath & Hand Wash   \n",
       "...                       ...                       ...   \n",
       "27550        Beauty & Hygiene         Fragrances & Deos   \n",
       "27551    Gourmet & World Food    Cooking & Baking Needs   \n",
       "27552    Gourmet & World Food  Snacks, Dry Fruits, Nuts   \n",
       "27553               Beverages                       Tea   \n",
       "27554        Beauty & Hygiene            Men's Grooming   \n",
       "\n",
       "                            brand  sale_price  market_price  \\\n",
       "0               Sri Sri Ayurveda       220.00         220.0   \n",
       "1                      Mastercook      180.00         180.0   \n",
       "2                             Trm      119.00         250.0   \n",
       "3                          Nakoda      149.00         176.0   \n",
       "4                           Nivea      162.00         162.0   \n",
       "...                           ...         ...           ...   \n",
       "27550                      Layerr      199.20         249.0   \n",
       "27551                    Puramate       67.50          75.0   \n",
       "27552                      FabBox      200.00         200.0   \n",
       "27553                      Tetley      396.00         495.0   \n",
       "27554  United Colors Of Benetton       214.53         390.0   \n",
       "\n",
       "                           type  rating  \\\n",
       "0              Hair Oil & Serum     4.1   \n",
       "1        Water & Fridge Bottles     2.3   \n",
       "2               Lamp & Lamp Oil     3.4   \n",
       "3      Laundry, Storage Baskets     3.7   \n",
       "4          Bathing Bars & Soaps     4.4   \n",
       "...                         ...     ...   \n",
       "27550                   Perfume     3.9   \n",
       "27551  Herbs, Seasonings & Rubs     4.0   \n",
       "27552            Nachos & Chips     3.8   \n",
       "27553                  Tea Bags     4.2   \n",
       "27554          Men's Deodorants     4.5   \n",
       "\n",
       "                                             description  \n",
       "0      This Product contains Garlic Oil that is known...  \n",
       "1      Each product is microwave safe (without lid), ...  \n",
       "2      A perfect gift for all occasions, be it your m...  \n",
       "3      Multipurpose container with an attractive desi...  \n",
       "4      Nivea Creme Soft Soap gives your skin the best...  \n",
       "...                                                  ...  \n",
       "27550  Layerr brings you Wottagirl Classic fragrant b...  \n",
       "27551  Puramate rosemary is enough to transform a dis...  \n",
       "27552  We have taken the richness of Sweet Potatoes (...  \n",
       "27553  Tetley Green Tea with its refreshing pure, ori...  \n",
       "27554  The new mens fragrance from the United Dreams ...  \n",
       "\n",
       "[27555 rows x 9 columns]"
      ]
     },
     "execution_count": 37,
     "metadata": {},
     "output_type": "execute_result"
    }
   ],
   "source": [
    "df"
   ]
  },
  {
   "cell_type": "code",
   "execution_count": 38,
   "id": "a9ef7c61",
   "metadata": {},
   "outputs": [
    {
     "data": {
      "text/plain": [
       "Index(['product', 'category', 'sub_category', 'brand', 'sale_price',\n",
       "       'market_price', 'type', 'rating', 'description'],\n",
       "      dtype='object')"
      ]
     },
     "execution_count": 38,
     "metadata": {},
     "output_type": "execute_result"
    }
   ],
   "source": [
    "df.columns"
   ]
  },
  {
   "cell_type": "code",
   "execution_count": 39,
   "id": "8043fb8b",
   "metadata": {},
   "outputs": [
    {
     "data": {
      "text/plain": [
       "0              Beauty & Hygiene\n",
       "1        Kitchen, Garden & Pets\n",
       "2          Cleaning & Household\n",
       "3          Cleaning & Household\n",
       "4              Beauty & Hygiene\n",
       "                  ...          \n",
       "27550          Beauty & Hygiene\n",
       "27551      Gourmet & World Food\n",
       "27552      Gourmet & World Food\n",
       "27553                 Beverages\n",
       "27554          Beauty & Hygiene\n",
       "Name: category, Length: 27555, dtype: object"
      ]
     },
     "execution_count": 39,
     "metadata": {},
     "output_type": "execute_result"
    }
   ],
   "source": [
    "df.category"
   ]
  },
  {
   "cell_type": "code",
   "execution_count": 40,
   "id": "efd4a568",
   "metadata": {},
   "outputs": [
    {
     "data": {
      "text/plain": [
       "category\n",
       "Beauty & Hygiene            7867\n",
       "Gourmet & World Food        4690\n",
       "Kitchen, Garden & Pets      3580\n",
       "Snacks & Branded Foods      2814\n",
       "Foodgrains, Oil & Masala    2676\n",
       "Cleaning & Household        2675\n",
       "Beverages                    885\n",
       "Bakery, Cakes & Dairy        851\n",
       "Baby Care                    610\n",
       "Fruits & Vegetables          557\n",
       "Eggs, Meat & Fish            350\n",
       "Name: count, dtype: int64"
      ]
     },
     "execution_count": 40,
     "metadata": {},
     "output_type": "execute_result"
    }
   ],
   "source": [
    "df.category.value_counts()"
   ]
  },
  {
   "cell_type": "code",
   "execution_count": 41,
   "id": "e4fce322",
   "metadata": {},
   "outputs": [
    {
     "data": {
      "image/png": "[encoded data removed]",
      "text/plain": [
       "<Figure size 640x480 with 1 Axes>"
      ]
     },
     "metadata": {},
     "output_type": "display_data"
    }
   ],
   "source": [
    "sns.barplot(y=df.category.value_counts().index , x=df.category.value_counts().values)\n",
    "plt.show()"
   ]
  },
  {
   "cell_type": "code",
   "execution_count": 42,
   "id": "780e5aa1",
   "metadata": {},
   "outputs": [
    {
     "data": {
      "image/png": "[encoded data removed]",
      "text/plain": [
       "<Figure size 640x480 with 1 Axes>"
      ]
     },
     "metadata": {},
     "output_type": "display_data"
    }
   ],
   "source": [
    "sns.histplot(df.category)\n",
    "plt.xticks(rotation=90)\n",
    "plt.show()"
   ]
  },
  {
   "cell_type": "markdown",
   "id": "02152d39",
   "metadata": {},
   "source": [
    "###### Insights\n",
    "\n"
   ]
  },
  {
   "cell_type": "code",
   "execution_count": 43,
   "id": "fb4eb883",
   "metadata": {},
   "outputs": [],
   "source": [
    "tempdf=df[df.category=='Beauty & Hygiene']"
   ]
  },
  {
   "cell_type": "code",
   "execution_count": 44,
   "id": "39a68913",
   "metadata": {},
   "outputs": [
    {
     "data": {
      "text/html": [
       "<div>\n",
       "<style scoped>\n",
       "    .dataframe tbody tr th:only-of-type {\n",
       "        vertical-align: middle;\n",
       "    }\n",
       "\n",
       "    .dataframe tbody tr th {\n",
       "        vertical-align: top;\n",
       "    }\n",
       "\n",
       "    .dataframe thead th {\n",
       "        text-align: right;\n",
       "    }\n",
       "</style>\n",
       "<table border=\"1\" class=\"dataframe\">\n",
       "  <thead>\n",
       "    <tr style=\"text-align: right;\">\n",
       "      <th></th>\n",
       "      <th>product</th>\n",
       "      <th>category</th>\n",
       "      <th>sub_category</th>\n",
       "      <th>brand</th>\n",
       "      <th>sale_price</th>\n",
       "      <th>market_price</th>\n",
       "      <th>type</th>\n",
       "      <th>rating</th>\n",
       "      <th>description</th>\n",
       "    </tr>\n",
       "  </thead>\n",
       "  <tbody>\n",
       "    <tr>\n",
       "      <th>0</th>\n",
       "      <td>Garlic Oil - Vegetarian Capsule 500 mg</td>\n",
       "      <td>Beauty &amp; Hygiene</td>\n",
       "      <td>Hair Care</td>\n",
       "      <td>Sri Sri Ayurveda</td>\n",
       "      <td>220.00</td>\n",
       "      <td>220.0</td>\n",
       "      <td>Hair Oil &amp; Serum</td>\n",
       "      <td>4.1</td>\n",
       "      <td>This Product contains Garlic Oil that is known...</td>\n",
       "    </tr>\n",
       "    <tr>\n",
       "      <th>4</th>\n",
       "      <td>Creme Soft Soap - For Hands &amp; Body</td>\n",
       "      <td>Beauty &amp; Hygiene</td>\n",
       "      <td>Bath &amp; Hand Wash</td>\n",
       "      <td>Nivea</td>\n",
       "      <td>162.00</td>\n",
       "      <td>162.0</td>\n",
       "      <td>Bathing Bars &amp; Soaps</td>\n",
       "      <td>4.4</td>\n",
       "      <td>Nivea Creme Soft Soap gives your skin the best...</td>\n",
       "    </tr>\n",
       "    <tr>\n",
       "      <th>6</th>\n",
       "      <td>Multani Mati</td>\n",
       "      <td>Beauty &amp; Hygiene</td>\n",
       "      <td>Skin Care</td>\n",
       "      <td>Satinance</td>\n",
       "      <td>58.00</td>\n",
       "      <td>58.0</td>\n",
       "      <td>Face Care</td>\n",
       "      <td>3.6</td>\n",
       "      <td>Satinance multani matti is an excellent skin t...</td>\n",
       "    </tr>\n",
       "    <tr>\n",
       "      <th>7</th>\n",
       "      <td>Hand Sanitizer - 70% Alcohol Base</td>\n",
       "      <td>Beauty &amp; Hygiene</td>\n",
       "      <td>Bath &amp; Hand Wash</td>\n",
       "      <td>Bionova</td>\n",
       "      <td>250.00</td>\n",
       "      <td>250.0</td>\n",
       "      <td>Hand Wash &amp; Sanitizers</td>\n",
       "      <td>4.0</td>\n",
       "      <td>70%Alcohol based is gentle of hand leaves skin...</td>\n",
       "    </tr>\n",
       "    <tr>\n",
       "      <th>8</th>\n",
       "      <td>Biotin &amp; Collagen Volumizing Hair Shampoo + Bi...</td>\n",
       "      <td>Beauty &amp; Hygiene</td>\n",
       "      <td>Hair Care</td>\n",
       "      <td>StBotanica</td>\n",
       "      <td>1098.00</td>\n",
       "      <td>1098.0</td>\n",
       "      <td>Shampoo &amp; Conditioner</td>\n",
       "      <td>3.5</td>\n",
       "      <td>An exclusive blend with Vitamin B7 Biotin, Hyd...</td>\n",
       "    </tr>\n",
       "    <tr>\n",
       "      <th>...</th>\n",
       "      <td>...</td>\n",
       "      <td>...</td>\n",
       "      <td>...</td>\n",
       "      <td>...</td>\n",
       "      <td>...</td>\n",
       "      <td>...</td>\n",
       "      <td>...</td>\n",
       "      <td>...</td>\n",
       "      <td>...</td>\n",
       "    </tr>\n",
       "    <tr>\n",
       "      <th>27541</th>\n",
       "      <td>Herbal Rose &amp; Apricot Walnut Facial Scrub</td>\n",
       "      <td>Beauty &amp; Hygiene</td>\n",
       "      <td>Skin Care</td>\n",
       "      <td>Khadi Natural</td>\n",
       "      <td>250.00</td>\n",
       "      <td>250.0</td>\n",
       "      <td>Face Care</td>\n",
       "      <td>4.4</td>\n",
       "      <td>Rose and apricot walnut face scrub helps in re...</td>\n",
       "    </tr>\n",
       "    <tr>\n",
       "      <th>27542</th>\n",
       "      <td>Embellish Skin Lightening Serum</td>\n",
       "      <td>Beauty &amp; Hygiene</td>\n",
       "      <td>Skin Care</td>\n",
       "      <td>Organic Harvest</td>\n",
       "      <td>1525.75</td>\n",
       "      <td>1795.0</td>\n",
       "      <td>Face Care</td>\n",
       "      <td>4.2</td>\n",
       "      <td>Achieve an everlasting illuminated skin by inc...</td>\n",
       "    </tr>\n",
       "    <tr>\n",
       "      <th>27548</th>\n",
       "      <td>Apple Cider Vinegar Shampoo</td>\n",
       "      <td>Beauty &amp; Hygiene</td>\n",
       "      <td>Hair Care</td>\n",
       "      <td>Morpheme Remedies</td>\n",
       "      <td>499.00</td>\n",
       "      <td>499.0</td>\n",
       "      <td>Shampoo &amp; Conditioner</td>\n",
       "      <td>5.0</td>\n",
       "      <td>Say no to dull, lifeless, dry and damaged hair...</td>\n",
       "    </tr>\n",
       "    <tr>\n",
       "      <th>27550</th>\n",
       "      <td>Wottagirl! Perfume Spray - Heaven, Classic</td>\n",
       "      <td>Beauty &amp; Hygiene</td>\n",
       "      <td>Fragrances &amp; Deos</td>\n",
       "      <td>Layerr</td>\n",
       "      <td>199.20</td>\n",
       "      <td>249.0</td>\n",
       "      <td>Perfume</td>\n",
       "      <td>3.9</td>\n",
       "      <td>Layerr brings you Wottagirl Classic fragrant b...</td>\n",
       "    </tr>\n",
       "    <tr>\n",
       "      <th>27554</th>\n",
       "      <td>United Dreams Go Far Deodorant</td>\n",
       "      <td>Beauty &amp; Hygiene</td>\n",
       "      <td>Men's Grooming</td>\n",
       "      <td>United Colors Of Benetton</td>\n",
       "      <td>214.53</td>\n",
       "      <td>390.0</td>\n",
       "      <td>Men's Deodorants</td>\n",
       "      <td>4.5</td>\n",
       "      <td>The new mens fragrance from the United Dreams ...</td>\n",
       "    </tr>\n",
       "  </tbody>\n",
       "</table>\n",
       "<p>7867 rows × 9 columns</p>\n",
       "</div>"
      ],
      "text/plain": [
       "                                                 product          category  \\\n",
       "0                 Garlic Oil - Vegetarian Capsule 500 mg  Beauty & Hygiene   \n",
       "4                     Creme Soft Soap - For Hands & Body  Beauty & Hygiene   \n",
       "6                                           Multani Mati  Beauty & Hygiene   \n",
       "7                      Hand Sanitizer - 70% Alcohol Base  Beauty & Hygiene   \n",
       "8      Biotin & Collagen Volumizing Hair Shampoo + Bi...  Beauty & Hygiene   \n",
       "...                                                  ...               ...   \n",
       "27541          Herbal Rose & Apricot Walnut Facial Scrub  Beauty & Hygiene   \n",
       "27542                    Embellish Skin Lightening Serum  Beauty & Hygiene   \n",
       "27548                        Apple Cider Vinegar Shampoo  Beauty & Hygiene   \n",
       "27550         Wottagirl! Perfume Spray - Heaven, Classic  Beauty & Hygiene   \n",
       "27554                     United Dreams Go Far Deodorant  Beauty & Hygiene   \n",
       "\n",
       "            sub_category                       brand  sale_price  \\\n",
       "0              Hair Care           Sri Sri Ayurveda       220.00   \n",
       "4       Bath & Hand Wash                       Nivea      162.00   \n",
       "6              Skin Care                   Satinance       58.00   \n",
       "7       Bath & Hand Wash                     Bionova      250.00   \n",
       "8              Hair Care                  StBotanica     1098.00   \n",
       "...                  ...                         ...         ...   \n",
       "27541          Skin Care               Khadi Natural      250.00   \n",
       "27542          Skin Care             Organic Harvest     1525.75   \n",
       "27548          Hair Care           Morpheme Remedies      499.00   \n",
       "27550  Fragrances & Deos                      Layerr      199.20   \n",
       "27554     Men's Grooming  United Colors Of Benetton       214.53   \n",
       "\n",
       "       market_price                    type  rating  \\\n",
       "0             220.0        Hair Oil & Serum     4.1   \n",
       "4             162.0    Bathing Bars & Soaps     4.4   \n",
       "6              58.0               Face Care     3.6   \n",
       "7             250.0  Hand Wash & Sanitizers     4.0   \n",
       "8            1098.0   Shampoo & Conditioner     3.5   \n",
       "...             ...                     ...     ...   \n",
       "27541         250.0               Face Care     4.4   \n",
       "27542        1795.0               Face Care     4.2   \n",
       "27548         499.0   Shampoo & Conditioner     5.0   \n",
       "27550         249.0                 Perfume     3.9   \n",
       "27554         390.0        Men's Deodorants     4.5   \n",
       "\n",
       "                                             description  \n",
       "0      This Product contains Garlic Oil that is known...  \n",
       "4      Nivea Creme Soft Soap gives your skin the best...  \n",
       "6      Satinance multani matti is an excellent skin t...  \n",
       "7      70%Alcohol based is gentle of hand leaves skin...  \n",
       "8      An exclusive blend with Vitamin B7 Biotin, Hyd...  \n",
       "...                                                  ...  \n",
       "27541  Rose and apricot walnut face scrub helps in re...  \n",
       "27542  Achieve an everlasting illuminated skin by inc...  \n",
       "27548  Say no to dull, lifeless, dry and damaged hair...  \n",
       "27550  Layerr brings you Wottagirl Classic fragrant b...  \n",
       "27554  The new mens fragrance from the United Dreams ...  \n",
       "\n",
       "[7867 rows x 9 columns]"
      ]
     },
     "execution_count": 44,
     "metadata": {},
     "output_type": "execute_result"
    }
   ],
   "source": [
    "tempdf"
   ]
  },
  {
   "cell_type": "code",
   "execution_count": 45,
   "id": "d89317a9",
   "metadata": {},
   "outputs": [
    {
     "data": {
      "image/png": "[encoded data removed]",
      "text/plain": [
       "<Figure size 640x480 with 1 Axes>"
      ]
     },
     "metadata": {},
     "output_type": "display_data"
    }
   ],
   "source": [
    "sns.countplot(y=tempdf.sub_category)\n",
    "plt.show()"
   ]
  },
  {
   "cell_type": "code",
   "execution_count": 57,
   "id": "67cac033",
   "metadata": {},
   "outputs": [
    {
     "data": {
      "image/png": "[encoded data removed]",
      "text/plain": [
       "<Figure size 640x480 with 1 Axes>"
      ]
     },
     "metadata": {},
     "output_type": "display_data"
    }
   ],
   "source": [
    "sns.histplot(df.sale_price.sample(50), bins=10)\n",
    "plt.show()"
   ]
  },
  {
   "cell_type": "code",
   "execution_count": 46,
   "id": "27a26a89",
   "metadata": {},
   "outputs": [
    {
     "data": {
      "text/plain": [
       "sub_category\n",
       "Skin Care              2294\n",
       "Health & Medicine      1133\n",
       "Hair Care              1028\n",
       "Fragrances & Deos      1000\n",
       "Bath & Hand Wash        996\n",
       "Men's Grooming          805\n",
       "Feminine Hygiene        285\n",
       "Oral Care               271\n",
       "Makeup                   48\n",
       "Mothers & Maternity       7\n",
       "Name: count, dtype: int64"
      ]
     },
     "execution_count": 46,
     "metadata": {},
     "output_type": "execute_result"
    }
   ],
   "source": [
    "tempdf.sub_category.value_counts()"
   ]
  },
  {
   "cell_type": "code",
   "execution_count": 47,
   "id": "9b1fd395",
   "metadata": {},
   "outputs": [
    {
     "data": {
      "text/html": [
       "<div>\n",
       "<style scoped>\n",
       "    .dataframe tbody tr th:only-of-type {\n",
       "        vertical-align: middle;\n",
       "    }\n",
       "\n",
       "    .dataframe tbody tr th {\n",
       "        vertical-align: top;\n",
       "    }\n",
       "\n",
       "    .dataframe thead th {\n",
       "        text-align: right;\n",
       "    }\n",
       "</style>\n",
       "<table border=\"1\" class=\"dataframe\">\n",
       "  <thead>\n",
       "    <tr style=\"text-align: right;\">\n",
       "      <th></th>\n",
       "      <th>product</th>\n",
       "      <th>category</th>\n",
       "      <th>sub_category</th>\n",
       "      <th>brand</th>\n",
       "      <th>sale_price</th>\n",
       "      <th>market_price</th>\n",
       "      <th>type</th>\n",
       "      <th>rating</th>\n",
       "      <th>description</th>\n",
       "    </tr>\n",
       "  </thead>\n",
       "  <tbody>\n",
       "    <tr>\n",
       "      <th>240</th>\n",
       "      <td>Fresh Catch Fish Fingers</td>\n",
       "      <td>Eggs, Meat &amp; Fish</td>\n",
       "      <td>Fish &amp; Seafood</td>\n",
       "      <td>Ifb</td>\n",
       "      <td>240.00</td>\n",
       "      <td>240.0</td>\n",
       "      <td>Frozen Fish &amp; Seafood</td>\n",
       "      <td>0.0</td>\n",
       "      <td>You can’t beat the classics. Perfectly crispy ...</td>\n",
       "    </tr>\n",
       "    <tr>\n",
       "      <th>260</th>\n",
       "      <td>Chicken Cocktail Sausage</td>\n",
       "      <td>Eggs, Meat &amp; Fish</td>\n",
       "      <td>Sausages, Bacon &amp; Salami</td>\n",
       "      <td>Fresho</td>\n",
       "      <td>171.60</td>\n",
       "      <td>220.0</td>\n",
       "      <td>Chicken Sausages</td>\n",
       "      <td>0.0</td>\n",
       "      <td>Chicken Cocktail Sausage is made with premium ...</td>\n",
       "    </tr>\n",
       "    <tr>\n",
       "      <th>293</th>\n",
       "      <td>Pork Classic Salami</td>\n",
       "      <td>Eggs, Meat &amp; Fish</td>\n",
       "      <td>Sausages, Bacon &amp; Salami</td>\n",
       "      <td>La Carne</td>\n",
       "      <td>191.25</td>\n",
       "      <td>225.0</td>\n",
       "      <td>Pork &amp; Ham</td>\n",
       "      <td>0.0</td>\n",
       "      <td>At La Carne, we take pride in offering product...</td>\n",
       "    </tr>\n",
       "    <tr>\n",
       "      <th>313</th>\n",
       "      <td>Pork - Fresh Bacon, Sliced</td>\n",
       "      <td>Eggs, Meat &amp; Fish</td>\n",
       "      <td>Sausages, Bacon &amp; Salami</td>\n",
       "      <td>Fresho Signature</td>\n",
       "      <td>360.00</td>\n",
       "      <td>400.0</td>\n",
       "      <td>Pork &amp; Ham</td>\n",
       "      <td>0.0</td>\n",
       "      <td>Casanova Bacon Sliced (Fresh) is a premium-qua...</td>\n",
       "    </tr>\n",
       "    <tr>\n",
       "      <th>317</th>\n",
       "      <td>Chicken Jalapeno Cheese Nuggets</td>\n",
       "      <td>Eggs, Meat &amp; Fish</td>\n",
       "      <td>Sausages, Bacon &amp; Salami</td>\n",
       "      <td>Meatzza</td>\n",
       "      <td>285.00</td>\n",
       "      <td>300.0</td>\n",
       "      <td>Chicken Sausages</td>\n",
       "      <td>0.0</td>\n",
       "      <td>Boneless chicken meat, formed, batter-coated &amp;...</td>\n",
       "    </tr>\n",
       "    <tr>\n",
       "      <th>...</th>\n",
       "      <td>...</td>\n",
       "      <td>...</td>\n",
       "      <td>...</td>\n",
       "      <td>...</td>\n",
       "      <td>...</td>\n",
       "      <td>...</td>\n",
       "      <td>...</td>\n",
       "      <td>...</td>\n",
       "      <td>...</td>\n",
       "    </tr>\n",
       "    <tr>\n",
       "      <th>27190</th>\n",
       "      <td>Fish - Nuggets</td>\n",
       "      <td>Eggs, Meat &amp; Fish</td>\n",
       "      <td>Fish &amp; Seafood</td>\n",
       "      <td>Seastar</td>\n",
       "      <td>168.00</td>\n",
       "      <td>210.0</td>\n",
       "      <td>Frozen Fish &amp; Seafood</td>\n",
       "      <td>0.0</td>\n",
       "      <td>Sea star frozen BASA FISH fillets, packed by u...</td>\n",
       "    </tr>\n",
       "    <tr>\n",
       "      <th>27293</th>\n",
       "      <td>Italian - Sausages Chicken</td>\n",
       "      <td>Eggs, Meat &amp; Fish</td>\n",
       "      <td>Sausages, Bacon &amp; Salami</td>\n",
       "      <td>Yummiez</td>\n",
       "      <td>150.00</td>\n",
       "      <td>160.0</td>\n",
       "      <td>Chicken Sausages</td>\n",
       "      <td>0.0</td>\n",
       "      <td>Now you can relish an Italian Breakfast everyd...</td>\n",
       "    </tr>\n",
       "    <tr>\n",
       "      <th>27356</th>\n",
       "      <td>Prawns Balchao Masala</td>\n",
       "      <td>Eggs, Meat &amp; Fish</td>\n",
       "      <td>Fish &amp; Seafood</td>\n",
       "      <td>Gadre</td>\n",
       "      <td>254.15</td>\n",
       "      <td>299.0</td>\n",
       "      <td>Frozen Fish &amp; Seafood</td>\n",
       "      <td>0.0</td>\n",
       "      <td>Prawns Balchao Masala is made with combining P...</td>\n",
       "    </tr>\n",
       "    <tr>\n",
       "      <th>27466</th>\n",
       "      <td>Chicken Seekh Kabab Punjabi</td>\n",
       "      <td>Eggs, Meat &amp; Fish</td>\n",
       "      <td>Sausages, Bacon &amp; Salami</td>\n",
       "      <td>Fresho</td>\n",
       "      <td>223.00</td>\n",
       "      <td>290.0</td>\n",
       "      <td>Chicken Sausages</td>\n",
       "      <td>0.0</td>\n",
       "      <td>Prepared in the traditional style, the kebabs ...</td>\n",
       "    </tr>\n",
       "    <tr>\n",
       "      <th>27469</th>\n",
       "      <td>Canned Skipjack Light Meat Tuna - Flakes In Brine</td>\n",
       "      <td>Eggs, Meat &amp; Fish</td>\n",
       "      <td>Fish &amp; Seafood</td>\n",
       "      <td>Golden Prize</td>\n",
       "      <td>149.00</td>\n",
       "      <td>149.0</td>\n",
       "      <td>Canned Seafood</td>\n",
       "      <td>0.0</td>\n",
       "      <td>Premium Quality Fish, Imported from Thailand, ...</td>\n",
       "    </tr>\n",
       "  </tbody>\n",
       "</table>\n",
       "<p>350 rows × 9 columns</p>\n",
       "</div>"
      ],
      "text/plain": [
       "                                                 product           category  \\\n",
       "240                             Fresh Catch Fish Fingers  Eggs, Meat & Fish   \n",
       "260                             Chicken Cocktail Sausage  Eggs, Meat & Fish   \n",
       "293                                  Pork Classic Salami  Eggs, Meat & Fish   \n",
       "313                           Pork - Fresh Bacon, Sliced  Eggs, Meat & Fish   \n",
       "317                      Chicken Jalapeno Cheese Nuggets  Eggs, Meat & Fish   \n",
       "...                                                  ...                ...   \n",
       "27190                                     Fish - Nuggets  Eggs, Meat & Fish   \n",
       "27293                         Italian - Sausages Chicken  Eggs, Meat & Fish   \n",
       "27356                              Prawns Balchao Masala  Eggs, Meat & Fish   \n",
       "27466                        Chicken Seekh Kabab Punjabi  Eggs, Meat & Fish   \n",
       "27469  Canned Skipjack Light Meat Tuna - Flakes In Brine  Eggs, Meat & Fish   \n",
       "\n",
       "                   sub_category             brand  sale_price  market_price  \\\n",
       "240              Fish & Seafood               Ifb      240.00         240.0   \n",
       "260    Sausages, Bacon & Salami            Fresho      171.60         220.0   \n",
       "293    Sausages, Bacon & Salami          La Carne      191.25         225.0   \n",
       "313    Sausages, Bacon & Salami  Fresho Signature      360.00         400.0   \n",
       "317    Sausages, Bacon & Salami           Meatzza      285.00         300.0   \n",
       "...                         ...               ...         ...           ...   \n",
       "27190            Fish & Seafood           Seastar      168.00         210.0   \n",
       "27293  Sausages, Bacon & Salami           Yummiez      150.00         160.0   \n",
       "27356            Fish & Seafood             Gadre      254.15         299.0   \n",
       "27466  Sausages, Bacon & Salami            Fresho      223.00         290.0   \n",
       "27469            Fish & Seafood      Golden Prize      149.00         149.0   \n",
       "\n",
       "                        type  rating  \\\n",
       "240    Frozen Fish & Seafood     0.0   \n",
       "260         Chicken Sausages     0.0   \n",
       "293               Pork & Ham     0.0   \n",
       "313               Pork & Ham     0.0   \n",
       "317         Chicken Sausages     0.0   \n",
       "...                      ...     ...   \n",
       "27190  Frozen Fish & Seafood     0.0   \n",
       "27293       Chicken Sausages     0.0   \n",
       "27356  Frozen Fish & Seafood     0.0   \n",
       "27466       Chicken Sausages     0.0   \n",
       "27469         Canned Seafood     0.0   \n",
       "\n",
       "                                             description  \n",
       "240    You can’t beat the classics. Perfectly crispy ...  \n",
       "260    Chicken Cocktail Sausage is made with premium ...  \n",
       "293    At La Carne, we take pride in offering product...  \n",
       "313    Casanova Bacon Sliced (Fresh) is a premium-qua...  \n",
       "317    Boneless chicken meat, formed, batter-coated &...  \n",
       "...                                                  ...  \n",
       "27190  Sea star frozen BASA FISH fillets, packed by u...  \n",
       "27293  Now you can relish an Italian Breakfast everyd...  \n",
       "27356  Prawns Balchao Masala is made with combining P...  \n",
       "27466  Prepared in the traditional style, the kebabs ...  \n",
       "27469  Premium Quality Fish, Imported from Thailand, ...  \n",
       "\n",
       "[350 rows x 9 columns]"
      ]
     },
     "execution_count": 47,
     "metadata": {},
     "output_type": "execute_result"
    }
   ],
   "source": [
    "tempdf=df[df.category=='Eggs, Meat & Fish']\n",
    "tempdf"
   ]
  },
  {
   "cell_type": "code",
   "execution_count": 48,
   "id": "07d5d86e",
   "metadata": {},
   "outputs": [
    {
     "data": {
      "image/png": "[encoded data removed]",
      "text/plain": [
       "<Figure size 640x480 with 1 Axes>"
      ]
     },
     "metadata": {},
     "output_type": "display_data"
    }
   ],
   "source": [
    "sns.countplot(y=tempdf.sub_category)\n",
    "plt.show()"
   ]
  },
  {
   "cell_type": "code",
   "execution_count": 49,
   "id": "0e0e1b6d",
   "metadata": {},
   "outputs": [
    {
     "data": {
      "text/plain": [
       "Index(['Fresh Vegetables', 'Fresh Fruits', 'Cuts & Sprouts',\n",
       "       'Exotic Fruits & Veggies', 'Organic Fruits & Vegetables',\n",
       "       'Herbs & Seasonings'],\n",
       "      dtype='object', name='sub_category')"
      ]
     },
     "execution_count": 49,
     "metadata": {},
     "output_type": "execute_result"
    }
   ],
   "source": [
    "tempdf=df[df.category=='Fruits & Vegetables']\n",
    "f=tempdf.sub_category.value_counts().head(6)\n",
    "f.index\n"
   ]
  },
  {
   "cell_type": "code",
   "execution_count": 50,
   "id": "dd122f51",
   "metadata": {},
   "outputs": [
    {
     "data": {
      "image/png": "[encoded data removed]",
      "text/plain": [
       "<Figure size 640x480 with 1 Axes>"
      ]
     },
     "metadata": {},
     "output_type": "display_data"
    }
   ],
   "source": [
    "plt.pie(f,labels=f.index , autopct='%1.1f%%')  \n",
    "plt.show()"
   ]
  },
  {
   "cell_type": "code",
   "execution_count": 51,
   "id": "2b036d70",
   "metadata": {},
   "outputs": [
    {
     "data": {
      "image/png": "[encoded data removed]",
      "text/plain": [
       "<Figure size 640x480 with 1 Axes>"
      ]
     },
     "metadata": {},
     "output_type": "display_data"
    }
   ],
   "source": [
    "sns.lineplot(df.sale_price.head(50))\n",
    "plt.show()"
   ]
  },
  {
   "cell_type": "code",
   "execution_count": 52,
   "id": "50acdfbc",
   "metadata": {},
   "outputs": [
    {
     "data": {
      "image/png": "[encoded data removed]",
      "text/plain": [
       "<Figure size 640x480 with 1 Axes>"
      ]
     },
     "metadata": {},
     "output_type": "display_data"
    }
   ],
   "source": [
    "sns.histplot(df.sale_price.head(50), bins=10 , kde=True)\n",
    "plt.show()"
   ]
  },
  {
   "cell_type": "markdown",
   "id": "86009e5d",
   "metadata": {},
   "source": [
    "###### Here we can see that our data is positively skewed"
   ]
  },
  {
   "cell_type": "code",
   "execution_count": 53,
   "id": "13c8917a",
   "metadata": {},
   "outputs": [
    {
     "data": {
      "text/plain": [
       "brand\n",
       "Fresho              638\n",
       "bb Royal            539\n",
       "BB Home             428\n",
       "DP                  250\n",
       "Fresho Signature    171\n",
       "bb Combo            168\n",
       "Amul                153\n",
       "INATUR              146\n",
       "Himalaya            141\n",
       "Dabur               138\n",
       "Name: count, dtype: int64"
      ]
     },
     "execution_count": 53,
     "metadata": {},
     "output_type": "execute_result"
    }
   ],
   "source": [
    "df.brand.value_counts().head(10)"
   ]
  },
  {
   "cell_type": "code",
   "execution_count": 54,
   "id": "cb84c273",
   "metadata": {},
   "outputs": [
    {
     "data": {
      "image/png": "[encoded data removed]",
      "text/plain": [
       "<Figure size 640x480 with 1 Axes>"
      ]
     },
     "metadata": {},
     "output_type": "display_data"
    }
   ],
   "source": [
    "plt.pie(df.brand.value_counts().head(10) , autopct='%1.1f%%' ,labels=df.brand.value_counts().head(10).index)\n",
    "plt.show()"
   ]
  },
  {
   "cell_type": "code",
   "execution_count": 55,
   "id": "382fc707",
   "metadata": {},
   "outputs": [
    {
     "data": {
      "image/png": "[encoded data removed]",
      "text/plain": [
       "<Figure size 640x480 with 1 Axes>"
      ]
     },
     "metadata": {},
     "output_type": "display_data"
    }
   ],
   "source": [
    "f=df[df.rating>=1].rating.value_counts()\n",
    "sns.lineplot(f)\n",
    "plt.show()"
   ]
  },
  {
   "cell_type": "code",
   "execution_count": 56,
   "id": "aba0db74",
   "metadata": {},
   "outputs": [
    {
     "data": {
      "image/png": "[encoded data removed]",
      "text/plain": [
       "<Figure size 640x480 with 1 Axes>"
      ]
     },
     "metadata": {},
     "output_type": "display_data"
    }
   ],
   "source": [
    "sns.scatterplot(f)\n",
    "plt.show()"
   ]
  },
  {
   "cell_type": "markdown",
   "id": "080ca16f",
   "metadata": {},
   "source": [
    "### Conclusions \n",
    "\n",
    "- From our visualisation we can also see that our dataset is positively skewed\n",
    "- Most of the products available on bigbasket are from their home brand bb royal, bb fresh , bb homes etc but they need to increase their inventory and increase other brands that are in demand by customers. \n",
    "- Bigbasket has more stock available for Beauty & Hygiene reason maybe as they have more shelf life they can be stored for long time without any damage.\n",
    "- In Beauty & Hygiene further quantity of skincare is highest which shows that recently people are getting cautious for their skin are Investing in skincare products.\n",
    "- From out rating Visualisation we can see that most of the products are rated between 3.5-4.5\n",
    " \n"
   ]
  },
  {
   "cell_type": "code",
   "execution_count": null,
   "id": "3dc0c139",
   "metadata": {},
   "outputs": [],
   "source": []
  }
 ],
 "metadata": {
  "kernelspec": {
   "display_name": "Python 3 (ipykernel)",
   "language": "python",
   "name": "python3"
  },
  "language_info": {
   "codemirror_mode": {
    "name": "ipython",
    "version": 3
   },
   "file_extension": ".py",
   "mimetype": "text/x-python",
   "name": "python",
   "nbconvert_exporter": "python",
   "pygments_lexer": "ipython3",
   "version": "3.11.5"
  }
 },
 "nbformat": 4,
 "nbformat_minor": 5
}
